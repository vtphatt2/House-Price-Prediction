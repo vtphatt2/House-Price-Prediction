{
  "cells": [
    {
      "cell_type": "markdown",
      "metadata": {
        "id": "IyTBh5_-E_y2"
      },
      "source": [
        "# **1. Load dataset**"
      ]
    },
    {
      "cell_type": "code",
      "execution_count": 3,
      "metadata": {
        "id": "FCrpqhjzE5HG"
      },
      "outputs": [],
      "source": [
        "import pandas as pd\n",
        "import numpy as np\n",
        "import seaborn as sns\n",
        "import matplotlib.pyplot as plt"
      ]
    },
    {
      "cell_type": "code",
      "execution_count": 5,
      "metadata": {
        "id": "Se69xUAcFLIA"
      },
      "outputs": [],
      "source": [
        "# Load the data\n",
        "\n",
        "file_path = '../Data/clean_data.csv'\n",
        "data = pd.read_csv(file_path)"
      ]
    },
    {
      "cell_type": "code",
      "execution_count": null,
      "metadata": {
        "colab": {
          "base_uri": "https://localhost:8080/",
          "height": 206
        },
        "id": "cJSDye-FFOXJ",
        "outputId": "6b9591b9-a773-41fa-b5be-810ef73e24c2"
      },
      "outputs": [
        {
          "data": {
            "text/html": [
              "<div>\n",
              "<style scoped>\n",
              "    .dataframe tbody tr th:only-of-type {\n",
              "        vertical-align: middle;\n",
              "    }\n",
              "\n",
              "    .dataframe tbody tr th {\n",
              "        vertical-align: top;\n",
              "    }\n",
              "\n",
              "    .dataframe thead th {\n",
              "        text-align: right;\n",
              "    }\n",
              "</style>\n",
              "<table border=\"1\" class=\"dataframe\">\n",
              "  <thead>\n",
              "    <tr style=\"text-align: right;\">\n",
              "      <th></th>\n",
              "      <th>No</th>\n",
              "      <th>Price</th>\n",
              "      <th>Area</th>\n",
              "      <th>Bedrooms</th>\n",
              "      <th>WCs</th>\n",
              "      <th>Floors</th>\n",
              "      <th>Legal_status</th>\n",
              "      <th>Frontage</th>\n",
              "      <th>Price_per_sqm</th>\n",
              "      <th>District_encoded</th>\n",
              "      <th>Month</th>\n",
              "    </tr>\n",
              "  </thead>\n",
              "  <tbody>\n",
              "    <tr>\n",
              "      <th>0</th>\n",
              "      <td>1</td>\n",
              "      <td>13.5</td>\n",
              "      <td>44.00</td>\n",
              "      <td>3.0</td>\n",
              "      <td>3.0</td>\n",
              "      <td>5.0</td>\n",
              "      <td>-1.0</td>\n",
              "      <td>1.0</td>\n",
              "      <td>0.31</td>\n",
              "      <td>0</td>\n",
              "      <td>11</td>\n",
              "    </tr>\n",
              "    <tr>\n",
              "      <th>1</th>\n",
              "      <td>2</td>\n",
              "      <td>8.7</td>\n",
              "      <td>45.00</td>\n",
              "      <td>3.0</td>\n",
              "      <td>3.0</td>\n",
              "      <td>4.0</td>\n",
              "      <td>1.0</td>\n",
              "      <td>0.0</td>\n",
              "      <td>0.19</td>\n",
              "      <td>0</td>\n",
              "      <td>11</td>\n",
              "    </tr>\n",
              "    <tr>\n",
              "      <th>2</th>\n",
              "      <td>3</td>\n",
              "      <td>9.3</td>\n",
              "      <td>40.00</td>\n",
              "      <td>4.0</td>\n",
              "      <td>4.0</td>\n",
              "      <td>4.0</td>\n",
              "      <td>1.0</td>\n",
              "      <td>0.0</td>\n",
              "      <td>0.23</td>\n",
              "      <td>0</td>\n",
              "      <td>11</td>\n",
              "    </tr>\n",
              "    <tr>\n",
              "      <th>3</th>\n",
              "      <td>4</td>\n",
              "      <td>15.0</td>\n",
              "      <td>151.69</td>\n",
              "      <td>5.0</td>\n",
              "      <td>4.0</td>\n",
              "      <td>3.0</td>\n",
              "      <td>-1.0</td>\n",
              "      <td>1.0</td>\n",
              "      <td>0.10</td>\n",
              "      <td>0</td>\n",
              "      <td>10</td>\n",
              "    </tr>\n",
              "    <tr>\n",
              "      <th>4</th>\n",
              "      <td>5</td>\n",
              "      <td>16.0</td>\n",
              "      <td>151.69</td>\n",
              "      <td>5.0</td>\n",
              "      <td>4.0</td>\n",
              "      <td>3.0</td>\n",
              "      <td>-1.0</td>\n",
              "      <td>1.0</td>\n",
              "      <td>0.11</td>\n",
              "      <td>0</td>\n",
              "      <td>10</td>\n",
              "    </tr>\n",
              "  </tbody>\n",
              "</table>\n",
              "</div>"
            ],
            "text/plain": [
              "   No  Price    Area  Bedrooms  WCs  Floors  Legal_status  Frontage  \\\n",
              "0   1   13.5   44.00       3.0  3.0     5.0          -1.0       1.0   \n",
              "1   2    8.7   45.00       3.0  3.0     4.0           1.0       0.0   \n",
              "2   3    9.3   40.00       4.0  4.0     4.0           1.0       0.0   \n",
              "3   4   15.0  151.69       5.0  4.0     3.0          -1.0       1.0   \n",
              "4   5   16.0  151.69       5.0  4.0     3.0          -1.0       1.0   \n",
              "\n",
              "   Price_per_sqm  District_encoded  Month  \n",
              "0           0.31                 0     11  \n",
              "1           0.19                 0     11  \n",
              "2           0.23                 0     11  \n",
              "3           0.10                 0     10  \n",
              "4           0.11                 0     10  "
            ]
          },
          "execution_count": 18,
          "metadata": {},
          "output_type": "execute_result"
        }
      ],
      "source": [
        "data.head()"
      ]
    },
    {
      "cell_type": "code",
      "execution_count": null,
      "metadata": {
        "colab": {
          "base_uri": "https://localhost:8080/",
          "height": 225
        },
        "id": "Fu6TrwriFQBU",
        "outputId": "3610c491-a477-4f11-86fd-9284c4622aa2"
      },
      "outputs": [
        {
          "data": {
            "text/plain": [
              "No                  0\n",
              "Price               0\n",
              "Area                0\n",
              "Bedrooms            0\n",
              "WCs                 0\n",
              "Floors              0\n",
              "Legal_status        0\n",
              "Frontage            0\n",
              "Price_per_sqm       0\n",
              "District_encoded    0\n",
              "Month               0\n",
              "dtype: int64"
            ]
          },
          "metadata": {},
          "output_type": "display_data"
        }
      ],
      "source": [
        "# Check for missing values\n",
        "display(data.isnull().sum())"
      ]
    },
    {
      "cell_type": "code",
      "execution_count": 6,
      "metadata": {
        "id": "HTHr0xUeFVaU"
      },
      "outputs": [],
      "source": [
        "# Split the dataset into features (X) and target variable (Y)\n",
        "X = data.drop(columns = ['No', 'Price', 'Price_per_sqm'])\n",
        "Y = data['Price']"
      ]
    },
    {
      "cell_type": "code",
      "execution_count": 7,
      "metadata": {
        "id": "penIltko_zHn"
      },
      "outputs": [],
      "source": [
        "# Scaling numerical variables\n",
        "from sklearn.preprocessing import StandardScaler\n",
        "\n",
        "scaler = StandardScaler()\n",
        "X = scaler.fit_transform(X)"
      ]
    },
    {
      "cell_type": "code",
      "execution_count": 8,
      "metadata": {
        "id": "6qkmE45mFW2U"
      },
      "outputs": [],
      "source": [
        "from sklearn.model_selection import train_test_split\n",
        "\n",
        "# Split the dataset into training and testing sets (80% for training, 20% for testing)\n",
        "X_train, X_test, Y_train, Y_test = train_test_split(X, Y, test_size=0.2, random_state=42)"
      ]
    },
    {
      "cell_type": "markdown",
      "metadata": {
        "id": "_xb1bfjvFZi9"
      },
      "source": [
        "# **2. Train model with default parameters**"
      ]
    },
    {
      "cell_type": "code",
      "execution_count": 9,
      "metadata": {
        "colab": {
          "base_uri": "https://localhost:8080/",
          "height": 74
        },
        "id": "q7eRuWiNg6Mo",
        "outputId": "fb95c727-c28d-4716-862b-87f63b2c0335"
      },
      "outputs": [
        {
          "data": {
            "text/html": [
              "<style>#sk-container-id-1 {\n",
              "  /* Definition of color scheme common for light and dark mode */\n",
              "  --sklearn-color-text: black;\n",
              "  --sklearn-color-line: gray;\n",
              "  /* Definition of color scheme for unfitted estimators */\n",
              "  --sklearn-color-unfitted-level-0: #fff5e6;\n",
              "  --sklearn-color-unfitted-level-1: #f6e4d2;\n",
              "  --sklearn-color-unfitted-level-2: #ffe0b3;\n",
              "  --sklearn-color-unfitted-level-3: chocolate;\n",
              "  /* Definition of color scheme for fitted estimators */\n",
              "  --sklearn-color-fitted-level-0: #f0f8ff;\n",
              "  --sklearn-color-fitted-level-1: #d4ebff;\n",
              "  --sklearn-color-fitted-level-2: #b3dbfd;\n",
              "  --sklearn-color-fitted-level-3: cornflowerblue;\n",
              "\n",
              "  /* Specific color for light theme */\n",
              "  --sklearn-color-text-on-default-background: var(--sg-text-color, var(--theme-code-foreground, var(--jp-content-font-color1, black)));\n",
              "  --sklearn-color-background: var(--sg-background-color, var(--theme-background, var(--jp-layout-color0, white)));\n",
              "  --sklearn-color-border-box: var(--sg-text-color, var(--theme-code-foreground, var(--jp-content-font-color1, black)));\n",
              "  --sklearn-color-icon: #696969;\n",
              "\n",
              "  @media (prefers-color-scheme: dark) {\n",
              "    /* Redefinition of color scheme for dark theme */\n",
              "    --sklearn-color-text-on-default-background: var(--sg-text-color, var(--theme-code-foreground, var(--jp-content-font-color1, white)));\n",
              "    --sklearn-color-background: var(--sg-background-color, var(--theme-background, var(--jp-layout-color0, #111)));\n",
              "    --sklearn-color-border-box: var(--sg-text-color, var(--theme-code-foreground, var(--jp-content-font-color1, white)));\n",
              "    --sklearn-color-icon: #878787;\n",
              "  }\n",
              "}\n",
              "\n",
              "#sk-container-id-1 {\n",
              "  color: var(--sklearn-color-text);\n",
              "}\n",
              "\n",
              "#sk-container-id-1 pre {\n",
              "  padding: 0;\n",
              "}\n",
              "\n",
              "#sk-container-id-1 input.sk-hidden--visually {\n",
              "  border: 0;\n",
              "  clip: rect(1px 1px 1px 1px);\n",
              "  clip: rect(1px, 1px, 1px, 1px);\n",
              "  height: 1px;\n",
              "  margin: -1px;\n",
              "  overflow: hidden;\n",
              "  padding: 0;\n",
              "  position: absolute;\n",
              "  width: 1px;\n",
              "}\n",
              "\n",
              "#sk-container-id-1 div.sk-dashed-wrapped {\n",
              "  border: 1px dashed var(--sklearn-color-line);\n",
              "  margin: 0 0.4em 0.5em 0.4em;\n",
              "  box-sizing: border-box;\n",
              "  padding-bottom: 0.4em;\n",
              "  background-color: var(--sklearn-color-background);\n",
              "}\n",
              "\n",
              "#sk-container-id-1 div.sk-container {\n",
              "  /* jupyter's `normalize.less` sets `[hidden] { display: none; }`\n",
              "     but bootstrap.min.css set `[hidden] { display: none !important; }`\n",
              "     so we also need the `!important` here to be able to override the\n",
              "     default hidden behavior on the sphinx rendered scikit-learn.org.\n",
              "     See: https://github.com/scikit-learn/scikit-learn/issues/21755 */\n",
              "  display: inline-block !important;\n",
              "  position: relative;\n",
              "}\n",
              "\n",
              "#sk-container-id-1 div.sk-text-repr-fallback {\n",
              "  display: none;\n",
              "}\n",
              "\n",
              "div.sk-parallel-item,\n",
              "div.sk-serial,\n",
              "div.sk-item {\n",
              "  /* draw centered vertical line to link estimators */\n",
              "  background-image: linear-gradient(var(--sklearn-color-text-on-default-background), var(--sklearn-color-text-on-default-background));\n",
              "  background-size: 2px 100%;\n",
              "  background-repeat: no-repeat;\n",
              "  background-position: center center;\n",
              "}\n",
              "\n",
              "/* Parallel-specific style estimator block */\n",
              "\n",
              "#sk-container-id-1 div.sk-parallel-item::after {\n",
              "  content: \"\";\n",
              "  width: 100%;\n",
              "  border-bottom: 2px solid var(--sklearn-color-text-on-default-background);\n",
              "  flex-grow: 1;\n",
              "}\n",
              "\n",
              "#sk-container-id-1 div.sk-parallel {\n",
              "  display: flex;\n",
              "  align-items: stretch;\n",
              "  justify-content: center;\n",
              "  background-color: var(--sklearn-color-background);\n",
              "  position: relative;\n",
              "}\n",
              "\n",
              "#sk-container-id-1 div.sk-parallel-item {\n",
              "  display: flex;\n",
              "  flex-direction: column;\n",
              "}\n",
              "\n",
              "#sk-container-id-1 div.sk-parallel-item:first-child::after {\n",
              "  align-self: flex-end;\n",
              "  width: 50%;\n",
              "}\n",
              "\n",
              "#sk-container-id-1 div.sk-parallel-item:last-child::after {\n",
              "  align-self: flex-start;\n",
              "  width: 50%;\n",
              "}\n",
              "\n",
              "#sk-container-id-1 div.sk-parallel-item:only-child::after {\n",
              "  width: 0;\n",
              "}\n",
              "\n",
              "/* Serial-specific style estimator block */\n",
              "\n",
              "#sk-container-id-1 div.sk-serial {\n",
              "  display: flex;\n",
              "  flex-direction: column;\n",
              "  align-items: center;\n",
              "  background-color: var(--sklearn-color-background);\n",
              "  padding-right: 1em;\n",
              "  padding-left: 1em;\n",
              "}\n",
              "\n",
              "\n",
              "/* Toggleable style: style used for estimator/Pipeline/ColumnTransformer box that is\n",
              "clickable and can be expanded/collapsed.\n",
              "- Pipeline and ColumnTransformer use this feature and define the default style\n",
              "- Estimators will overwrite some part of the style using the `sk-estimator` class\n",
              "*/\n",
              "\n",
              "/* Pipeline and ColumnTransformer style (default) */\n",
              "\n",
              "#sk-container-id-1 div.sk-toggleable {\n",
              "  /* Default theme specific background. It is overwritten whether we have a\n",
              "  specific estimator or a Pipeline/ColumnTransformer */\n",
              "  background-color: var(--sklearn-color-background);\n",
              "}\n",
              "\n",
              "/* Toggleable label */\n",
              "#sk-container-id-1 label.sk-toggleable__label {\n",
              "  cursor: pointer;\n",
              "  display: block;\n",
              "  width: 100%;\n",
              "  margin-bottom: 0;\n",
              "  padding: 0.5em;\n",
              "  box-sizing: border-box;\n",
              "  text-align: center;\n",
              "}\n",
              "\n",
              "#sk-container-id-1 label.sk-toggleable__label-arrow:before {\n",
              "  /* Arrow on the left of the label */\n",
              "  content: \"▸\";\n",
              "  float: left;\n",
              "  margin-right: 0.25em;\n",
              "  color: var(--sklearn-color-icon);\n",
              "}\n",
              "\n",
              "#sk-container-id-1 label.sk-toggleable__label-arrow:hover:before {\n",
              "  color: var(--sklearn-color-text);\n",
              "}\n",
              "\n",
              "/* Toggleable content - dropdown */\n",
              "\n",
              "#sk-container-id-1 div.sk-toggleable__content {\n",
              "  max-height: 0;\n",
              "  max-width: 0;\n",
              "  overflow: hidden;\n",
              "  text-align: left;\n",
              "  /* unfitted */\n",
              "  background-color: var(--sklearn-color-unfitted-level-0);\n",
              "}\n",
              "\n",
              "#sk-container-id-1 div.sk-toggleable__content.fitted {\n",
              "  /* fitted */\n",
              "  background-color: var(--sklearn-color-fitted-level-0);\n",
              "}\n",
              "\n",
              "#sk-container-id-1 div.sk-toggleable__content pre {\n",
              "  margin: 0.2em;\n",
              "  border-radius: 0.25em;\n",
              "  color: var(--sklearn-color-text);\n",
              "  /* unfitted */\n",
              "  background-color: var(--sklearn-color-unfitted-level-0);\n",
              "}\n",
              "\n",
              "#sk-container-id-1 div.sk-toggleable__content.fitted pre {\n",
              "  /* unfitted */\n",
              "  background-color: var(--sklearn-color-fitted-level-0);\n",
              "}\n",
              "\n",
              "#sk-container-id-1 input.sk-toggleable__control:checked~div.sk-toggleable__content {\n",
              "  /* Expand drop-down */\n",
              "  max-height: 200px;\n",
              "  max-width: 100%;\n",
              "  overflow: auto;\n",
              "}\n",
              "\n",
              "#sk-container-id-1 input.sk-toggleable__control:checked~label.sk-toggleable__label-arrow:before {\n",
              "  content: \"▾\";\n",
              "}\n",
              "\n",
              "/* Pipeline/ColumnTransformer-specific style */\n",
              "\n",
              "#sk-container-id-1 div.sk-label input.sk-toggleable__control:checked~label.sk-toggleable__label {\n",
              "  color: var(--sklearn-color-text);\n",
              "  background-color: var(--sklearn-color-unfitted-level-2);\n",
              "}\n",
              "\n",
              "#sk-container-id-1 div.sk-label.fitted input.sk-toggleable__control:checked~label.sk-toggleable__label {\n",
              "  background-color: var(--sklearn-color-fitted-level-2);\n",
              "}\n",
              "\n",
              "/* Estimator-specific style */\n",
              "\n",
              "/* Colorize estimator box */\n",
              "#sk-container-id-1 div.sk-estimator input.sk-toggleable__control:checked~label.sk-toggleable__label {\n",
              "  /* unfitted */\n",
              "  background-color: var(--sklearn-color-unfitted-level-2);\n",
              "}\n",
              "\n",
              "#sk-container-id-1 div.sk-estimator.fitted input.sk-toggleable__control:checked~label.sk-toggleable__label {\n",
              "  /* fitted */\n",
              "  background-color: var(--sklearn-color-fitted-level-2);\n",
              "}\n",
              "\n",
              "#sk-container-id-1 div.sk-label label.sk-toggleable__label,\n",
              "#sk-container-id-1 div.sk-label label {\n",
              "  /* The background is the default theme color */\n",
              "  color: var(--sklearn-color-text-on-default-background);\n",
              "}\n",
              "\n",
              "/* On hover, darken the color of the background */\n",
              "#sk-container-id-1 div.sk-label:hover label.sk-toggleable__label {\n",
              "  color: var(--sklearn-color-text);\n",
              "  background-color: var(--sklearn-color-unfitted-level-2);\n",
              "}\n",
              "\n",
              "/* Label box, darken color on hover, fitted */\n",
              "#sk-container-id-1 div.sk-label.fitted:hover label.sk-toggleable__label.fitted {\n",
              "  color: var(--sklearn-color-text);\n",
              "  background-color: var(--sklearn-color-fitted-level-2);\n",
              "}\n",
              "\n",
              "/* Estimator label */\n",
              "\n",
              "#sk-container-id-1 div.sk-label label {\n",
              "  font-family: monospace;\n",
              "  font-weight: bold;\n",
              "  display: inline-block;\n",
              "  line-height: 1.2em;\n",
              "}\n",
              "\n",
              "#sk-container-id-1 div.sk-label-container {\n",
              "  text-align: center;\n",
              "}\n",
              "\n",
              "/* Estimator-specific */\n",
              "#sk-container-id-1 div.sk-estimator {\n",
              "  font-family: monospace;\n",
              "  border: 1px dotted var(--sklearn-color-border-box);\n",
              "  border-radius: 0.25em;\n",
              "  box-sizing: border-box;\n",
              "  margin-bottom: 0.5em;\n",
              "  /* unfitted */\n",
              "  background-color: var(--sklearn-color-unfitted-level-0);\n",
              "}\n",
              "\n",
              "#sk-container-id-1 div.sk-estimator.fitted {\n",
              "  /* fitted */\n",
              "  background-color: var(--sklearn-color-fitted-level-0);\n",
              "}\n",
              "\n",
              "/* on hover */\n",
              "#sk-container-id-1 div.sk-estimator:hover {\n",
              "  /* unfitted */\n",
              "  background-color: var(--sklearn-color-unfitted-level-2);\n",
              "}\n",
              "\n",
              "#sk-container-id-1 div.sk-estimator.fitted:hover {\n",
              "  /* fitted */\n",
              "  background-color: var(--sklearn-color-fitted-level-2);\n",
              "}\n",
              "\n",
              "/* Specification for estimator info (e.g. \"i\" and \"?\") */\n",
              "\n",
              "/* Common style for \"i\" and \"?\" */\n",
              "\n",
              ".sk-estimator-doc-link,\n",
              "a:link.sk-estimator-doc-link,\n",
              "a:visited.sk-estimator-doc-link {\n",
              "  float: right;\n",
              "  font-size: smaller;\n",
              "  line-height: 1em;\n",
              "  font-family: monospace;\n",
              "  background-color: var(--sklearn-color-background);\n",
              "  border-radius: 1em;\n",
              "  height: 1em;\n",
              "  width: 1em;\n",
              "  text-decoration: none !important;\n",
              "  margin-left: 1ex;\n",
              "  /* unfitted */\n",
              "  border: var(--sklearn-color-unfitted-level-1) 1pt solid;\n",
              "  color: var(--sklearn-color-unfitted-level-1);\n",
              "}\n",
              "\n",
              ".sk-estimator-doc-link.fitted,\n",
              "a:link.sk-estimator-doc-link.fitted,\n",
              "a:visited.sk-estimator-doc-link.fitted {\n",
              "  /* fitted */\n",
              "  border: var(--sklearn-color-fitted-level-1) 1pt solid;\n",
              "  color: var(--sklearn-color-fitted-level-1);\n",
              "}\n",
              "\n",
              "/* On hover */\n",
              "div.sk-estimator:hover .sk-estimator-doc-link:hover,\n",
              ".sk-estimator-doc-link:hover,\n",
              "div.sk-label-container:hover .sk-estimator-doc-link:hover,\n",
              ".sk-estimator-doc-link:hover {\n",
              "  /* unfitted */\n",
              "  background-color: var(--sklearn-color-unfitted-level-3);\n",
              "  color: var(--sklearn-color-background);\n",
              "  text-decoration: none;\n",
              "}\n",
              "\n",
              "div.sk-estimator.fitted:hover .sk-estimator-doc-link.fitted:hover,\n",
              ".sk-estimator-doc-link.fitted:hover,\n",
              "div.sk-label-container:hover .sk-estimator-doc-link.fitted:hover,\n",
              ".sk-estimator-doc-link.fitted:hover {\n",
              "  /* fitted */\n",
              "  background-color: var(--sklearn-color-fitted-level-3);\n",
              "  color: var(--sklearn-color-background);\n",
              "  text-decoration: none;\n",
              "}\n",
              "\n",
              "/* Span, style for the box shown on hovering the info icon */\n",
              ".sk-estimator-doc-link span {\n",
              "  display: none;\n",
              "  z-index: 9999;\n",
              "  position: relative;\n",
              "  font-weight: normal;\n",
              "  right: .2ex;\n",
              "  padding: .5ex;\n",
              "  margin: .5ex;\n",
              "  width: min-content;\n",
              "  min-width: 20ex;\n",
              "  max-width: 50ex;\n",
              "  color: var(--sklearn-color-text);\n",
              "  box-shadow: 2pt 2pt 4pt #999;\n",
              "  /* unfitted */\n",
              "  background: var(--sklearn-color-unfitted-level-0);\n",
              "  border: .5pt solid var(--sklearn-color-unfitted-level-3);\n",
              "}\n",
              "\n",
              ".sk-estimator-doc-link.fitted span {\n",
              "  /* fitted */\n",
              "  background: var(--sklearn-color-fitted-level-0);\n",
              "  border: var(--sklearn-color-fitted-level-3);\n",
              "}\n",
              "\n",
              ".sk-estimator-doc-link:hover span {\n",
              "  display: block;\n",
              "}\n",
              "\n",
              "/* \"?\"-specific style due to the `<a>` HTML tag */\n",
              "\n",
              "#sk-container-id-1 a.estimator_doc_link {\n",
              "  float: right;\n",
              "  font-size: 1rem;\n",
              "  line-height: 1em;\n",
              "  font-family: monospace;\n",
              "  background-color: var(--sklearn-color-background);\n",
              "  border-radius: 1rem;\n",
              "  height: 1rem;\n",
              "  width: 1rem;\n",
              "  text-decoration: none;\n",
              "  /* unfitted */\n",
              "  color: var(--sklearn-color-unfitted-level-1);\n",
              "  border: var(--sklearn-color-unfitted-level-1) 1pt solid;\n",
              "}\n",
              "\n",
              "#sk-container-id-1 a.estimator_doc_link.fitted {\n",
              "  /* fitted */\n",
              "  border: var(--sklearn-color-fitted-level-1) 1pt solid;\n",
              "  color: var(--sklearn-color-fitted-level-1);\n",
              "}\n",
              "\n",
              "/* On hover */\n",
              "#sk-container-id-1 a.estimator_doc_link:hover {\n",
              "  /* unfitted */\n",
              "  background-color: var(--sklearn-color-unfitted-level-3);\n",
              "  color: var(--sklearn-color-background);\n",
              "  text-decoration: none;\n",
              "}\n",
              "\n",
              "#sk-container-id-1 a.estimator_doc_link.fitted:hover {\n",
              "  /* fitted */\n",
              "  background-color: var(--sklearn-color-fitted-level-3);\n",
              "}\n",
              "</style><div id=\"sk-container-id-1\" class=\"sk-top-container\"><div class=\"sk-text-repr-fallback\"><pre>GradientBoostingRegressor(random_state=42)</pre><b>In a Jupyter environment, please rerun this cell to show the HTML representation or trust the notebook. <br />On GitHub, the HTML representation is unable to render, please try loading this page with nbviewer.org.</b></div><div class=\"sk-container\" hidden><div class=\"sk-item\"><div class=\"sk-estimator fitted sk-toggleable\"><input class=\"sk-toggleable__control sk-hidden--visually\" id=\"sk-estimator-id-1\" type=\"checkbox\" checked><label for=\"sk-estimator-id-1\" class=\"sk-toggleable__label fitted sk-toggleable__label-arrow fitted\">&nbsp;&nbsp;GradientBoostingRegressor<a class=\"sk-estimator-doc-link fitted\" rel=\"noreferrer\" target=\"_blank\" href=\"https://scikit-learn.org/1.5/modules/generated/sklearn.ensemble.GradientBoostingRegressor.html\">?<span>Documentation for GradientBoostingRegressor</span></a><span class=\"sk-estimator-doc-link fitted\">i<span>Fitted</span></span></label><div class=\"sk-toggleable__content fitted\"><pre>GradientBoostingRegressor(random_state=42)</pre></div> </div></div></div></div>"
            ],
            "text/plain": [
              "GradientBoostingRegressor(random_state=42)"
            ]
          },
          "execution_count": 9,
          "metadata": {},
          "output_type": "execute_result"
        }
      ],
      "source": [
        "# Train model with default parameters\n",
        "from sklearn.ensemble import GradientBoostingRegressor\n",
        "\n",
        "model = GradientBoostingRegressor(random_state=42)\n",
        "model.fit(X_train, Y_train)"
      ]
    },
    {
      "cell_type": "code",
      "execution_count": null,
      "metadata": {
        "colab": {
          "base_uri": "https://localhost:8080/"
        },
        "id": "lqYFIFNMhOZ7",
        "outputId": "7aa6ae94-10f6-4290-c3f0-d67ca467a199"
      },
      "outputs": [
        {
          "name": "stdout",
          "output_type": "stream",
          "text": [
            "Mean Squared Error (MSE): 0.19977880407305726\n",
            "Mean Absolute Error (MAE): 0.2937219519984667\n",
            "R^2 Score: 0.9825851273145485\n"
          ]
        }
      ],
      "source": [
        "from sklearn.metrics import mean_squared_error, mean_absolute_error, r2_score\n",
        "\n",
        "predictions = model.predict(X_test)\n",
        "\n",
        "# Evaluate model\n",
        "mse = mean_squared_error(Y_test, predictions)\n",
        "mae = mean_absolute_error(Y_test, predictions)\n",
        "r2 = r2_score(Y_test, predictions)\n",
        "\n",
        "print(f\"Mean Squared Error (MSE): {mse}\")\n",
        "print(f\"Mean Absolute Error (MAE): {mae}\")\n",
        "print(f\"R^2 Score: {r2}\")"
      ]
    },
    {
      "cell_type": "code",
      "execution_count": null,
      "metadata": {
        "colab": {
          "base_uri": "https://localhost:8080/",
          "height": 564
        },
        "id": "6ue1L8A1haC7",
        "outputId": "f4606dcd-f26e-4404-c68a-d868e027b017"
      },
      "outputs": [
        {
          "data": {
            "image/png": "[encoded data removed]",
            "text/plain": [
              "<Figure size 1000x600 with 1 Axes>"
            ]
          },
          "metadata": {},
          "output_type": "display_data"
        }
      ],
      "source": [
        "import matplotlib.pyplot as plt\n",
        "\n",
        "# Víualize the plot\n",
        "plt.figure(figsize=(10, 6))\n",
        "plt.scatter(Y_test.values, predictions, color='blue', alpha=0.5)\n",
        "plt.plot([min(Y_test.values), max(Y_test.values)], [min(Y_test.values), max(Y_test.values)], color='red')\n",
        "plt.title('Actual vs Predicted House Prices (Gradient Boost)')\n",
        "plt.xlabel('Actual Price')\n",
        "plt.ylabel('Predicted Price')\n",
        "plt.show()"
      ]
    },
    {
      "cell_type": "markdown",
      "metadata": {
        "id": "o871e_pVJ7Eo"
      },
      "source": [
        "# **3. Train model with optimized parameters**"
      ]
    },
    {
      "cell_type": "code",
      "execution_count": 10,
      "metadata": {
        "colab": {
          "base_uri": "https://localhost:8080/"
        },
        "id": "Lvp_Gz7cF_jA",
        "outputId": "8581aeec-45b1-4bd7-8d87-a4f90ac52d01"
      },
      "outputs": [
        {
          "name": "stdout",
          "output_type": "stream",
          "text": [
            "Fitting 5 folds for each of 100 candidates, totalling 500 fits\n",
            "Best parameters: {'subsample': 0.6, 'n_estimators': 100, 'min_samples_split': 15, 'min_samples_leaf': 2, 'max_depth': 4, 'learning_rate': 0.1}\n",
            "Best R^2 Score: 0.7339795525643619\n"
          ]
        }
      ],
      "source": [
        "# Optimize Parameters\n",
        "from sklearn.metrics import mean_squared_error, r2_score\n",
        "from sklearn.model_selection import RandomizedSearchCV\n",
        "from sklearn.ensemble import GradientBoostingRegressor\n",
        "\n",
        "# Initialize the model\n",
        "model = GradientBoostingRegressor(random_state=42)\n",
        "\n",
        "# Define parameters\n",
        "param_distributions = {\n",
        "    'n_estimators': [100, 200, 300, 400, 500],\n",
        "    'max_depth': [3, 4, 5, 6, 7],\n",
        "    'min_samples_split': [2, 5, 10, 15],\n",
        "    'min_samples_leaf': [1, 2, 3, 4, 5],\n",
        "    'subsample': [0.6, 0.7, 0.8, 0.9, 1.0],\n",
        "    'learning_rate': [0.01, 0.05, 0.1, 0.2]\n",
        "}\n",
        "\n",
        "# Initialize RandomizedSearchCV\n",
        "random_search = RandomizedSearchCV(estimator=model, param_distributions=param_distributions,\n",
        "                                   n_iter=100, cv=5, n_jobs=-1, scoring='r2', verbose=2, random_state=42)\n",
        "\n",
        "# Train RandomizedSearchCV\n",
        "random_search.fit(X_train, Y_train)\n",
        "\n",
        "# Find the best parameters\n",
        "print(f\"Best parameters: {random_search.best_params_}\")\n",
        "print(f\"Best R^2 Score: {random_search.best_score_}\")\n",
        "\n",
        "# Use the model with best parmeters\n",
        "best_model = random_search.best_estimator_\n"
      ]
    },
    {
      "cell_type": "code",
      "execution_count": 12,
      "metadata": {
        "colab": {
          "base_uri": "https://localhost:8080/"
        },
        "id": "wLH-W0yfJg33",
        "outputId": "dc0e3818-8ec8-4748-b07c-0b135594f76f"
      },
      "outputs": [
        {
          "name": "stdout",
          "output_type": "stream",
          "text": [
            "Mean Squared Error (MSE): 25.770404768733446\n",
            "Mean Absolute Error (MAE): 2.1802883638935335\n",
            "R^2 Score: 0.6627720430348367\n"
          ]
        }
      ],
      "source": [
        "from sklearn.metrics import mean_squared_error, mean_absolute_error, r2_score\n",
        "\n",
        "predictions = best_model.predict(X_test)\n",
        "\n",
        "# Evaluate model\n",
        "mse = mean_squared_error(Y_test, predictions)\n",
        "mae = mean_absolute_error(Y_test, predictions)\n",
        "r2 = r2_score(Y_test, predictions)\n",
        "\n",
        "print(f\"Mean Squared Error (MSE): {mse}\")\n",
        "print(f\"Mean Absolute Error (MAE): {mae}\")\n",
        "print(f\"R^2 Score: {r2}\")"
      ]
    },
    {
      "cell_type": "code",
      "execution_count": 20,
      "metadata": {
        "colab": {
          "base_uri": "https://localhost:8080/",
          "height": 564
        },
        "id": "gaXlx8xdGD6d",
        "outputId": "3306afb6-a994-495a-92cb-0e1a6a2c930d"
      },
      "outputs": [
        {
          "data": {
            "image/png": "[encoded data removed]",
            "text/plain": [
              "<Figure size 1600x600 with 2 Axes>"
            ]
          },
          "metadata": {},
          "output_type": "display_data"
        }
      ],
      "source": [
        "# Visualize the plot comparing predicted results with actual data on testing dataset\n",
        "fig, axes = plt.subplots(1, 2, figsize=(16, 6))\n",
        "\n",
        "# Plot for Lasso Regression full range\n",
        "sns.scatterplot(x = Y_test.values, y = predictions, color = '#E0B0FF', ax=axes[0])\n",
        "axes[0].plot([Y_test.values.min(), Y_test.values.max()], [Y_test.values.min(), Y_test.values.max()], color = 'purple', linestyle = '-')\n",
        "axes[0].set_title('Actual vs. Predicted House Prices (Gradient Boost) - Full Range')\n",
        "axes[0].set_xlabel('Actual House Prices')\n",
        "axes[0].set_ylabel('Predicted House Prices')\n",
        "axes[0].grid(False)\n",
        "\n",
        "# Plot for Lasso Regression limited \n",
        "sns.scatterplot(x = Y_test.values, y = predictions, color = '#E0B0FF', ax=axes[1])\n",
        "axes[1].plot([0, 25], [0, 25], color = 'purple', linestyle = '-')\n",
        "axes[1].set_title('Actual vs. Predicted House Prices (Gradient Boost) - Limited to 0 - 25')\n",
        "axes[1].set_xlabel('Actual House Prices')\n",
        "axes[1].set_ylabel('Predicted House Prices')\n",
        "axes[1].set_xlim(0, 25)\n",
        "axes[1].set_ylim(0, 25)\n",
        "axes[1].grid(False)\n",
        "\n",
        "\n",
        "plt.grid(False)\n",
        "plt.show()"
      ]
    },
    {
      "cell_type": "markdown",
      "metadata": {
        "id": "9TSr1JLFXhru"
      },
      "source": [
        "# **Gradient Boosting**"
      ]
    },
    {
      "cell_type": "markdown",
      "metadata": {
        "id": "jvsdpyvYMb9V"
      },
      "source": [
        "**1. Tổng quan về Gradient Boosting**\n",
        "* Gradient Boosting Regressor là một thuật toán học máy thuộc loại ensemble learning, tức là nó kết hợp nhiều mô hình yếu để tạo thành một mô hình mạnh mẽ hơn.\n",
        "\n",
        "* Gradient Boosting Regressor có thể xử lý các mô hình phi tuyến tính và phức tạp, giúp mô hình học được các quan hệ phức tạp giữa các biến đầu vào và đầu ra.\n",
        "\n",
        "**2. Cách thức hoạt động của Gradient Boosting**\n",
        "\n",
        "* Mỗi cây quyết định được xây dựng theo cách tuần tự (sequential) và chuỗi (sequential). Đầu tiên, một cây quyết định đơn giản được huấn luyện trên dữ liệu ban đầu để dự đoán giá trị mục tiêu (target).\n",
        "\n",
        "* Sau đó, các cây quyết định tiếp theo được xây dựng để sửa đổi và cải thiện lỗi của cây trước đó trong chuỗi. Quá trình này làm tăng dần độ chính xác của mô hình bằng cách tập trung vào việc khắc phục những sai số còn lại.\n",
        "\n",
        "* Thuật toán sử dụng phương pháp Gradient Descent để tối thiểu hóa hàm mất mát (loss function), giúp điều chỉnh các dự đoán của mỗi cây quyết định để làm giảm sai số.\n",
        "\n",
        "* Mỗi cây quyết định mới được huấn luyện để tối ưu hóa hàm mất mát tích lũy (cumulative loss), tức là tổng của hàm mất mát trên toàn bộ chuỗi các cây đã xây dựng."
      ]
    },
    {
      "cell_type": "markdown",
      "metadata": {
        "id": "2XluoXNTVb9U"
      },
      "source": [
        "**3. Tại sao Decision Tree thường được sử dụng làm mô hình yếu (weak learners) trong Gradient Boosting**\n",
        "1. Đơn giản và dễ hiểu\n",
        "* Decision Tree hoạt động bằng cách phân đoạn không gian đầu vào thành các phần nhỏ hơn và dự đoán giá trị mục tiêu dựa trên các quy tắc quyết định đơn giản. Điều này làm cho việc huấn luyện và hiểu mô hình trở nên dễ dàng, đặc biệt là khi áp dụng trong một chuỗi Gradient Boosting.\n",
        "\n",
        "2. Tính phi tuyến tính:\n",
        "* Decision Tree có khả năng biểu diễn các mối quan hệ phi tuyến tính giữa các đặc trưng đầu vào và giá trị mục tiêu.\n",
        "* Trái ngược với các mô hình tuyến tính, Decision Tree có thể xử lý được nhiều loại dữ liệu và tạo ra các quyết định phức tạp dựa trên sự tương tác giữa các biến đầu vào.\n",
        "\n",
        "3. Khả năng tạo ra overfitting:\n",
        "* Decision Tree có xu hướng dễ dàng bị overfitting khi huấn luyện trên dữ liệu huấn luyện, đặc biệt khi không giới hạn độ sâu của cây\n",
        "* Tuy nhiên, khi sử dụng như một mô hình yếu trong Gradient Boosting, việc overfitting này được kiểm soát bởi quá trình học tuần tự và chuỗi các cây trong ensemble.\n",
        "\n",
        "4. Dễ dàng để điều chỉnh và tối ưu:\n",
        "* Decision Tree có nhiều tham số điều chỉnh như độ sâu tối đa của cây, số lượng mẫu tối thiểu cho mỗi nút lá, tiêu chí phân chia, ... Những tham số này cho phép điều chỉnh mô hình để tối ưu hóa hiệu suất dự đoán.\n",
        "\n",
        "5. Phù hợp với việc tối ưu Gradient:\n",
        "* Trong quá trình Gradient Boosting, các cây quyết định được xây dựng để giảm thiểu hàm mất mát (loss function) theo một hướng tối ưu hóa gradient.\n",
        "* Các cây quyết định, bởi tính chất của chúng, có thể tạo ra các dự đoán chưa tối ưu trong từng bước của quá trình này, làm cơ sở cho quá trình tối ưu hóa gradient."
      ]
    },
    {
      "cell_type": "markdown",
      "metadata": {
        "id": "MczpZqvLUg7k"
      },
      "source": [
        "**4. So sánh Gradient Boosting và Random Forest**\n",
        "* Trong khi Random Forest cũng là một phương pháp ensemble learning, nó khác biệt với Gradient Boosting Regressor ở chỗ mỗi cây quyết định trong Random Forest được huấn luyện độc lập với nhau và không phụ thuộc vào cây trước đó.\n",
        "* Điều này làm cho Random Forest thích hợp khi cần xử lý nhiễu và giảm thiểu hiện tượng overfitting, trong khi Gradient Boosting Regressor thường có khả năng dự đoán tốt hơn với các mô hình phức tạp hơn."
      ]
    },
    {
      "cell_type": "markdown",
      "metadata": {
        "id": "ZCD_CaZ_YZUg"
      },
      "source": [
        "# **RandomizedSearchCV**"
      ]
    },
    {
      "cell_type": "markdown",
      "metadata": {
        "id": "Bpto-QR-Ywg8"
      },
      "source": [
        "**Tổng quan về RandomizedSearch CV**\n",
        "* RandomizedSearchCV là một công cụ trong thư viện scikit-learn được sử dụng để tối ưu hóa siêu tham số của một mô hình máy học thông qua việc thử nghiệm ngẫu nhiên các giá trị của các tham số được chỉ định."
      ]
    },
    {
      "cell_type": "markdown",
      "metadata": {
        "id": "BwWPNRqOK9NA"
      },
      "source": [
        "# **4. Report**"
      ]
    },
    {
      "cell_type": "markdown",
      "metadata": {
        "id": "KwjxqQNlL_Eh"
      },
      "source": [
        "**1. Tổng quan: Báo cáo về Dự đoán giá nhà bằng Gradient Boosting Regressor** <br>\n",
        "\n",
        "Báo cáo này sẽ thảo luận về việc sử dụng mô hình Gradient Boosting Regressor để dự đoán giá nhà. <br>\n",
        "\n",
        "Mô hình này là một công cụ mạnh mẽ trong học máy, có khả năng xây dựng một chuỗi các cây quyết định để dự đoán giá trị liên tục trong các bài toán hồi quy (regression) và phân loại (classification). <br>\n",
        "\n",
        "Vì thế, nhóm em nghĩ mô hình trên sẽ phù hợp với bài toán hồi quy Dự đoán giá nhà. <br>"
      ]
    },
    {
      "cell_type": "markdown",
      "metadata": {
        "id": "XPPCStFUeSkT"
      },
      "source": [
        "**2. Quá trình thực hiện:**"
      ]
    },
    {
      "cell_type": "markdown",
      "metadata": {
        "id": "O9EtAoKRDgeE"
      },
      "source": [
        "**2.1 Huấn luyện mô hình với những tham số mặc định**\n"
      ]
    },
    {
      "cell_type": "markdown",
      "metadata": {
        "id": "W26JN5zzOZ0X"
      },
      "source": [
        "Sau khi huấn luyện, đánh giá mô hình qua các metric: Mean Squared Error (MSE) và R-squared (R²) score: <br>\n",
        "* **Mean Squared Error (MSE)**: 0.1998\n",
        "* **Mean Absolute Error (MAE)**: 0.2937\n",
        "* **R^2 Score**: 0.9826\n",
        "\n",
        "Những kết quả này cho thấy mô hình hoạt động rất hiệu quả trong việc dự đoán giá nhà, với độ chính xác cao trên cả tập huấn luyện và tập kiểm tra"
      ]
    },
    {
      "cell_type": "markdown",
      "metadata": {
        "id": "9cy6_d5yPA5U"
      },
      "source": [
        "**2.2 Huấn luyện mô hình với những tham số đã tối ưu**"
      ]
    },
    {
      "cell_type": "markdown",
      "metadata": {
        "id": "N5vXKOzGMtaf"
      },
      "source": [
        "**a. Các tham số cần điều chỉnh để có một mô hình Gradient Boosting tối ưu hơn:** <br>\n",
        "\n",
        "* **n_estimatior**: Số lượng cây trong ensemble. <br>\n",
        "* **max_depth**: Độ sâu tối đa của cây quyết định <br>\n",
        "* **min_sample_split**: Số lượng mẫu tối thiểu cần thiết để chia một nút nội bộ <br>\n",
        "* **min_samples_leaf**: Số lượng mẫu tối thiểu cần thiết để thành một lá trong cây <br>\n",
        "* **subsample**: Tỷ lệ mẫu được sử dụng để huấn luyện mỗi cây <br>\n",
        "* **learning_rate**: Tỷ lệ học của cây <br>"
      ]
    },
    {
      "cell_type": "markdown",
      "metadata": {
        "id": "Zwg0yWnMbudT"
      },
      "source": [
        "**b. Tối ưu hóa tham số của Gradient Boosting sử dụng RandomizedSearchCV** <br>\n",
        "\n",
        "RandomizedSearchCV sẽ lặp lại quá trình huấn luyện với từng tổ hợp tham số, sử dụng cross-validation để đánh giá mô hình với từng tổ hợp. <br>\n",
        "Sau khi hoàn thành, nó sẽ chọn tổ hợp tham số tốt nhất dựa trên điểm số tối ưu hóa được chỉ định (ở đây là 'r2'). <br>\n",
        "Mô hình tốt nhất được chọn sau đó có thể được sử dụng để dự đoán trên dữ liệu mới. <br>\n",
        "\n",
        "**Note:** Cross-validation dùng để đánh giá hiệu suất của mô hình dự đoán và đảm bảo rằng mô hình không bị overfitting hoặc underfitting. Kỹ thuật này chia tập dữ liệu ban đầu thành các phần nhỏ để huấn luyện và kiểm tra mô hình nhiều lần, từ đó cung cấp một đánh giá chính xác và toàn diện hơn về hiệu suất của mô hình. <br>\n",
        "\n",
        "* **Estimator**: Là mô hình máy học cần được tối ưu hóa. Trong ví dụ của chúng ta, GradientBoostingRegressor được chọn làm mô hình.\n",
        "* **Param_distributions**: Là danh sách các tham số của mô hình cần tối ưu hóa cùng với các giá trị mà chúng có thể nhận. Các giá trị này được chỉ định dưới dạng một từ điển, trong đó mỗi khóa là tên của tham số và mỗi giá trị là một danh sách các giá trị có thể\n",
        "\n",
        "* **n_iter**: Số lượng lần lặp để tìm kiếm ngẫu nhiên trong không gian tham số. Mỗi lần lặp, một tổ hợp tham số ngẫu nhiên sẽ được chọn để đào tạo mô hình và đánh giá.\n",
        "* **cv**: Số lượng fold trong cross-validation để đánh giá mô hình. Trong ví dụ này, chúng ta sử dụng 5 folds.\n",
        "* **n_jobs**: Số lượng công việc được chạy đồng thời (-1 nghĩa là sử dụng tất cả các CPU).\n",
        "* **scoring**: Điểm số mà chúng ta sử dụng để đánh giá hiệu suất của mô hình. Trong ví dụ này, sử dụng 'r2' để đo lường hệ số xác định R².\n",
        "* **verbose**: Cấp độ thông tin chi tiết của quá trình huấn luyện. Ở đây, giá trị 2 cho phép in chi tiết cho mỗi lần lặp của RandomizedSearchCV.\n",
        "* **random_state**: Để đảm bảo kết quả có thể tái tạo, giá trị này đảm bảo rằng việc chọn tổ hợp tham số ngẫu nhiên là nhất quán."
      ]
    },
    {
      "cell_type": "markdown",
      "metadata": {
        "id": "qcHd6LTWdcBF"
      },
      "source": [
        "**c. Kết quả thu được từ mô hình tốt nhất các tham số như sau:** <br>\n",
        "  {'subsample': 0.7, <br>\n",
        "  'n_estimators': 300, <br>\n",
        "  'min_samples_split': 10, <br>\n",
        "  'min_samples_leaf': 1, <br>\n",
        "  'max_depth': 5, <br>\n",
        "  'learning_rate': 0.05} <br>"
      ]
    },
    {
      "cell_type": "markdown",
      "metadata": {
        "id": "EOqKdndcOmtC"
      },
      "source": [
        "**d. Đánh giá mô hình**: <br>\n",
        "Sau khi huấn luyện, mô hình tốt nhất sẽ được đánh giá qua các metric: Mean Squared Error (MSE) và R-squared (R²) score.\n",
        "\n",
        "* **Best R² Score**: 0.9852\n",
        "* **Mean Squared Error (MSE)**: 0.0917\n",
        "* **Mean Absolute Error (MAE)**: 0.2087\n",
        "* **R² Score**: 0.9920\n",
        "\n",
        "Những kết quả này cho thấy mô hình hoạt động rất hiệu quả trong việc dự đoán giá nhà, với độ chính xác cao trên cả tập huấn luyện và tập kiểm tra."
      ]
    },
    {
      "cell_type": "markdown",
      "metadata": {
        "id": "HB4l_5LIP1wC"
      },
      "source": [
        "**3. Kết luận**: <br>\n",
        "Trong báo cáo này, chúng ta đã thảo luận về việc sử dụng Gradient Boosting Regressor để dự đoán giá nhà, từ việc lý thuyết về mô hình đến các kỹ thuật tối ưu hóa mô hình như RandomizedSearchCV. Các kết quả đã chứng minh tính hiệu quả của mô hình trong bài toán dự đoán giá nhà, với sự chính xác cao và khả năng áp dụng thực tế mạnh mẽ."
      ]
    },
    {
      "cell_type": "markdown",
      "metadata": {},
      "source": [
        "# **5. Pros and Cons Analysis**"
      ]
    },
    {
      "cell_type": "markdown",
      "metadata": {},
      "source": [
        "**Ưu điểm của Gradient Boosting**"
      ]
    },
    {
      "cell_type": "markdown",
      "metadata": {},
      "source": [
        "**1. Hiệu suất cao** <br>\n",
        "Gradient Boosting thường mang lại độ chính xác rất cao, đặc biệt khi áp dụng cho các bài toán hồi quy và phân loại. Nhờ khả năng kết hợp nhiều mô hình yếu (weak learners) để tạo thành một mô hình mạnh, Gradient Boosting có thể giảm thiểu lỗi dự đoán và cải thiện hiệu suất tổng thể.\n",
        "\n",
        "**2. Khả năng xử lý các đặc trưng phức tạp** <br>\n",
        "Gradient Boosting có thể xử lý tốt các dữ liệu với nhiều đặc trưng phức tạp và không tuyến tính. Các cây quyết định sử dụng trong Gradient Boosting có thể nắm bắt các tương tác phức tạp giữa các đặc trưng mà các mô hình tuyến tính không thể phát hiện.\n",
        "\n",
        "**3. Khả năng tùy chỉnh cao** <br>\n",
        "Gradient Boosting cung cấp nhiều siêu tham số (hyperparameters) có thể tùy chỉnh, chẳng hạn như số lượng cây, độ sâu của cây, learning rate, v.v. Điều này cho phép người dùng điều chỉnh mô hình để đạt hiệu suất tốt nhất cho từng bài toán cụ thể.\n",
        "\n",
        "**4. Quản lý overfitting** <br>\n",
        "Gradient Boosting có cơ chế chống overfitting tốt hơn so với các phương pháp khác như quyết định cây đơn lẻ, nhờ vào việc sử dụng learning rate và khả năng cắt tỉa cây (pruning)."
      ]
    },
    {
      "cell_type": "markdown",
      "metadata": {},
      "source": [
        "**Nhược điểm của Gradient Boosting**"
      ]
    },
    {
      "cell_type": "markdown",
      "metadata": {},
      "source": [
        "**1. Thời gian huấn luyện dài** <br>\n",
        "Gradient Boosting yêu cầu nhiều thời gian huấn luyện hơn so với một số thuật toán khác, đặc biệt là khi số lượng cây và độ sâu của cây lớn. Điều này có thể gây ra vấn đề khi xử lý các bộ dữ liệu lớn hoặc khi yêu cầu thời gian phản hồi nhanh.\n",
        "\n",
        "**2. Yêu cầu tài nguyên tính toán cao** <br>\n",
        "Gradient Boosting đòi hỏi nhiều tài nguyên tính toán hơn, bao gồm cả bộ nhớ và CPU/GPU. Điều này có thể trở thành rào cản khi làm việc với dữ liệu lớn hoặc trong môi trường tính toán hạn chế.\n",
        "\n",
        "**3. Nhạy cảm với siêu tham số** <br>\n",
        "Gradient Boosting rất nhạy cảm với các siêu tham số. Việc chọn sai các giá trị như số lượng cây, learning rate, và độ sâu của cây có thể dẫn đến overfitting hoặc underfitting. Việc tìm kiếm các siêu tham số tối ưu thường đòi hỏi nhiều thời gian và công sức.\n",
        "\n",
        "**4. Khó giải thích** <br>\n",
        "Gradient Boosting vẫn khó giải thích hơn so với các mô hình đơn giản như hồi quy tuyến tính hoặc quyết định cây đơn lẻ. Điều này có thể là một hạn chế trong các lĩnh vực yêu cầu tính minh bạch cao."
      ]
    },
    {
      "cell_type": "markdown",
      "metadata": {},
      "source": [
        "# **6. So sánh với Linear Regression**"
      ]
    },
    {
      "cell_type": "markdown",
      "metadata": {},
      "source": [
        "**Khi so sánh với Gradient Boosting, Linear Regression có một số các ưu điểm có thể kể đến:**"
      ]
    },
    {
      "cell_type": "markdown",
      "metadata": {},
      "source": [
        "**1. Đơn giản và dễ hiểu:** <br>\n",
        "Mô hình đơn giản với khả năng giải thích rõ ràng. Kết quả đầu ra dễ dàng được diễn giải, giúp người dùng hiểu rõ mối quan hệ giữa các biến.<br>\n",
        "\n",
        "**2. Thời gian huấn luyện nhanh:** <br>\n",
        "Thời gian huấn luyện nhanh chóng ngay cả với các bộ dữ liệu lớn. <br>\n",
        "\n",
        "**3. Tài nguyên tính toán thấp:** <br>\n",
        "Đòi hỏi ít tài nguyên tính toán hơn, phù hợp với các hệ thống hạn chế về tài nguyên. <br>\n",
        "\n",
        "\n",
        "**4. Ít nhạy cảm với siêu tham số:** <br>\n",
        "Có ít siêu tham số cần điều chỉnh, giúp giảm bớt thời gian và công sức tìm kiếm giá trị tối ưu. <br>"
      ]
    },
    {
      "cell_type": "markdown",
      "metadata": {},
      "source": [
        "**Bên cạnh đó, có một số nhược điểm sau:**"
      ]
    },
    {
      "cell_type": "markdown",
      "metadata": {},
      "source": [
        "**1. Hiệu suất thấp với dữ liệu phi tuyến:** <br>\n",
        "Không hiệu quả với các dữ liệu có mối quan hệ phi tuyến tính. Linear Regression chỉ có thể nắm bắt mối quan hệ tuyến tính giữa các biến.<br>\n",
        "\n",
        "**2. Không xử lý tốt các đặc trưng phức tạp:** <br>\n",
        "Không thể nắm bắt được các tương tác phức tạp giữa các đặc trưng mà Gradient Boosting có thể xử lý.\n",
        "\n",
        "**3. Dễ bị ảnh hưởng bởi outliers:** <br>\n",
        "Dễ bị ảnh hưởng bởi các giá trị ngoại lai (outliers), có thể làm lệch kết quả dự đoán."
      ]
    }
  ],
  "metadata": {
    "colab": {
      "collapsed_sections": [
        "9TSr1JLFXhru",
        "ZCD_CaZ_YZUg"
      ],
      "provenance": []
    },
    "kernelspec": {
      "display_name": "Python 3",
      "name": "python3"
    },
    "language_info": {
      "codemirror_mode": {
        "name": "ipython",
        "version": 3
      },
      "file_extension": ".py",
      "mimetype": "text/x-python",
      "name": "python",
      "nbconvert_exporter": "python",
      "pygments_lexer": "ipython3",
      "version": "3.12.4"
    }
  },
  "nbformat": 4,
  "nbformat_minor": 0
}
