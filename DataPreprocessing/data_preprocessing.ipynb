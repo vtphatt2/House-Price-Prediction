{
 "cells": [
  {
   "cell_type": "markdown",
   "metadata": {},
   "source": [
    "# **DATA PREPROCESSING**"
   ]
  },
  {
   "cell_type": "markdown",
   "metadata": {},
   "source": [
    "Below, our group will report on the issues we encountered during the data preprocessing stage and how we handled them."
   ]
  },
  {
   "cell_type": "markdown",
   "metadata": {},
   "source": [
    "### **Issues encountered during the data processing:**"
   ]
  },
  {
   "cell_type": "code",
   "execution_count": 289,
   "metadata": {},
   "outputs": [],
   "source": [
    "import pandas as pd\n",
    "import numpy as np \n",
    "import csv\n",
    "import re\n",
    "from difflib import SequenceMatcher"
   ]
  },
  {
   "cell_type": "markdown",
   "metadata": {},
   "source": [
    "From the input file (containing raw data crawled from the web), we will perform data preprocessing steps to clean the data, and then output the results into an output file (containing the cleaned data after all preprocessing steps)."
   ]
  },
  {
   "cell_type": "code",
   "execution_count": 290,
   "metadata": {},
   "outputs": [],
   "source": [
    "# Đường dẫn tới file CSV đầu vào \n",
    "file_input = '../Data/temp_data.csv'\n",
    "# Đường dẫn tới file CSV đầu ra\n",
    "file_output = '../Data/clean_data.csv'"
   ]
  },
  {
   "cell_type": "markdown",
   "metadata": {},
   "source": [
    "#### **Issue 01:**"
   ]
  },
  {
   "cell_type": "markdown",
   "metadata": {},
   "source": [
    "When initially crawling data from the web (raw data), I encountered an error that prevented the execution of the `pd.read_csv` command. Upon a preliminary inspection, I discovered that the error was due to extra quotation marks in the data string, which caused the data structure to be incorrect."
   ]
  },
  {
   "cell_type": "code",
   "execution_count": 291,
   "metadata": {},
   "outputs": [],
   "source": [
    "# Hàm sửa lỗi dư hoặc thiếu dấu ngoặc kép trong file CSV\n",
    "def fix_csv_quotes(file_input, file_output):\n",
    "    # Mở file đầu vào để đọc và file đầu ra để ghi\n",
    "    with open(file_input, 'r', encoding = 'utf-8') as infile, open(file_output, 'w', newline = '', encoding = 'utf-8') as outfile:\n",
    "        # Đọc tất cả các dòng từ file đầu vào\n",
    "        reader = infile.readlines()\n",
    "        # Tạo writer để ghi vào file đầu ra\n",
    "        writer = csv.writer(outfile)\n",
    "\n",
    "        # Lặp qua từng dòng trong file đầu vào\n",
    "        for line in reader:\n",
    "            # Kiểm tra số lượng dấu ngoặc kép trong dòng\n",
    "            num_quotes = line.count('\"')\n",
    "            # Nếu số lượng dấu ngoặc kép là số lẻ, thêm một dấu ngoặc kép ở cuối dòng\n",
    "            if num_quotes % 2 != 0:\n",
    "                line = line.strip() + '\"\\n'\n",
    "            # Ghi lại dòng đã sửa vào file đầu ra\n",
    "            writer.writerow(next(csv.reader([line], skipinitialspace = True)))"
   ]
  },
  {
   "cell_type": "markdown",
   "metadata": {},
   "source": [
    "Use the `fix_csv_quotes` function to appropriately adjust the pairs of quotation marks (\" \") in the data."
   ]
  },
  {
   "cell_type": "code",
   "execution_count": 292,
   "metadata": {},
   "outputs": [],
   "source": [
    "fix_csv_quotes(file_input, file_output)"
   ]
  },
  {
   "cell_type": "markdown",
   "metadata": {},
   "source": [
    "#### **Issue 02:**"
   ]
  },
  {
   "cell_type": "markdown",
   "metadata": {},
   "source": [
    "The data in the columns of the CSV file is not clean; specifically, there are unnecessary characters and special characters that could significantly impact subsequent processes."
   ]
  },
  {
   "cell_type": "code",
   "execution_count": 293,
   "metadata": {},
   "outputs": [],
   "source": [
    "column_index = 8  # Chỉ số của cột cần làm sạch (bắt đầu từ 0), cột 8 là cột Description\n",
    "\n",
    "def clean_string(string):\n",
    "\n",
    "    \"\"\"\n",
    "    Hàm này sẽ làm sạch chuỗi bằng cách loại bỏ các biểu tượng và ký tự không cần thiết.\n",
    "    (nhưng giữ lại các kí tự chữ (hoa và thường), số, dấu chấm, dấu phẩy, dấu | )\n",
    "    \n",
    "    string: Chuỗi cần làm sạch.\n",
    "    cleanString: Chuỗi đã được làm sạch.\n",
    "\n",
    "    \"\"\"\n",
    "\n",
    "    # Hàm isinstance check xem data input của mình có phải là string không \n",
    "    if isinstance(string, str):\n",
    "        cleanString = re.sub(r'[^\\w\\s.,|]', '', string) # Xoá tất cả các kí tự ngoại trừ chữ (thường, hoa), số, dấu chấm, dấu phẩy, dấu |\n",
    "        return cleanString\n",
    "    else:\n",
    "        return string"
   ]
  },
  {
   "cell_type": "code",
   "execution_count": 294,
   "metadata": {},
   "outputs": [],
   "source": [
    "def clean_file_csv(file_input, file_output, column_index):\n",
    "\n",
    "    \"\"\"\n",
    "    Hàm này sẽ làm sạch một cột cụ thể trong file CSV, do có những cột khác (VD cột Postdate có dấu : ), \n",
    "    Vì vậy nếu apply full file csv nó sẽ fix hết cả những cột không cần thiết -> chỉ áp dụng chính xác cột cần xử lí thôi.\n",
    "\n",
    "    input_csv (str): Đường dẫn tới file CSV đầu vào (temp_data).\n",
    "    output_csv (str): Đường dẫn tới file CSV đầu ra (clean_data).\n",
    "    column_index (int): Chỉ số của cột cần làm sạch.\n",
    "    \"\"\"\n",
    "\n",
    "    # Đọc file CSV vào DataFrame\n",
    "    df = pd.read_csv(file_input, on_bad_lines = 'skip')\n",
    "\n",
    "    # Kiểm tra xem chỉ số cột có hợp lệ không\n",
    "    if column_index < len(df.columns):\n",
    "        # Áp dụng hàm làm sạch cho cột cụ thể\n",
    "        col = df.columns[column_index]\n",
    "        df[col] = df[col].apply(clean_string)\n",
    "    else:\n",
    "        print(f\"Invalid column index !\")\n",
    "\n",
    "    # Lưu lại DataFrame đã được làm sạch thành file CSV mới\n",
    "    df.to_csv(file_output, index = False)\n",
    "\n"
   ]
  },
  {
   "cell_type": "code",
   "execution_count": 295,
   "metadata": {},
   "outputs": [],
   "source": [
    "clean_file_csv(file_input, file_output, column_index)"
   ]
  },
  {
   "cell_type": "markdown",
   "metadata": {},
   "source": [
    "#### **Issue 03:**"
   ]
  },
  {
   "cell_type": "markdown",
   "metadata": {},
   "source": [
    "Extract data from the **`Title`** and **`Description`** fields to fill in the positions where the data is null using `regular expressions` (regex)."
   ]
  },
  {
   "cell_type": "code",
   "execution_count": 296,
   "metadata": {},
   "outputs": [],
   "source": [
    "# Đọc lại file csv, xoá các dòng bị lỗi \n",
    "# (mình nhận thấy số lượng dòng bị lỗi không nhiều ~ 10 dòng nên mình sẽ skip luôn vì tụi mình có nhiều data mà =))))\n",
    "df = pd.read_csv('../Data/clean_data.csv', on_bad_lines = 'skip')"
   ]
  },
  {
   "cell_type": "code",
   "execution_count": 297,
   "metadata": {},
   "outputs": [],
   "source": [
    "# Thay thế \"Thoả thuận\" bằng NaN cho dễ xử lí về sau (tạm thời)\n",
    "df['Price'] = df['Price'].replace('TT', np.nan)"
   ]
  },
  {
   "cell_type": "code",
   "execution_count": 298,
   "metadata": {},
   "outputs": [],
   "source": [
    "# Biểu thức chính quy để trích xuất thông tin giá\n",
    "price_pattern = re.compile(\n",
    "    r'Giá[^0-9]*([0-9]+[.,]?[0-9]*)\\s*(Tỷ)', \n",
    "    re.IGNORECASE\n",
    ")\n",
    "# 'Giá' - Tìm từ \"Giá\"\n",
    "# '[^0-9]*' - Không chứa ký tự số\n",
    "# '([0-9]+[.,]?[0-9]*)' - Nhóm các số, có thể có dấu phẩy hoặc dấu chấm\n",
    "# '\\s*' - Bỏ qua các khoảng trắng\n",
    "# '(Tỷ)' - Tìm từ \"Tỷ\"\n",
    "# 're.IGNORECASE' - Không phân biệt chữ hoa chữ thường\n",
    "\n",
    "\n",
    "# Biểu thức chính quy để trích xuất thông tin diện tích\n",
    "area_pattern = re.compile(\n",
    "    r'(\\d+\\.?\\d*)\\s*x\\s*(\\d+\\.?\\d*)|\\((\\d+\\.?\\d*)m2\\)'\n",
    ")\n",
    "# '(\\d+\\.?\\d*)\\s*x\\s*(\\d+\\.?\\d*)' - Tìm diện tích dưới dạng \"chiều dài x chiều rộng\"\n",
    "# '(\\d+\\.?\\d*)' - Nhóm tìm các số, có thể có dấu chấm thập phân\n",
    "# '\\s*x\\s*' - Tìm ký tự \"x\", có thể có khoảng trắng\n",
    "# '(\\d+\\.?\\d*)' - Nhóm tìm các số phía sau ký tự \"x\"\n",
    "# '|' - Hoặc\n",
    "# '\\((\\d+\\.?\\d*)m2\\)' - Tìm diện tích dưới dạng \"(xxx m2)\"\n",
    "# '\\(' - Dấu mở ngoặc đơn\n",
    "# '(\\d+\\.?\\d*)' - Nhóm tìm các số, có thể có dấu chấm thập phân\n",
    "# 'm2' - Ký tự \"m2\"\n",
    "# '\\)' - Dấu đóng ngoặc đơn\n",
    "\n",
    "\n",
    "# Biểu thức chính quy để trích xuất thông tin số phòng ngủ\n",
    "bedroom_pattern = re.compile(\n",
    "    r'(\\d+)\\s*PN'\n",
    ")\n",
    "# '(\\d+)' - Nhóm tìm một hoặc nhiều chữ số\n",
    "# '\\s*' - Bỏ qua các khoảng trắng\n",
    "# 'PN' - Tìm từ \"PN\" (phòng ngủ)\n",
    "\n",
    "\n",
    "# Biểu thức chính quy để trích xuất thông tin số nhà vệ sinh\n",
    "wc_pattern = re.compile(\n",
    "    r'(\\d+)\\s*WC'\n",
    ")\n",
    "# '(\\d+)' - Nhóm tìm một hoặc nhiều chữ số\n",
    "# '\\s*' - Bỏ qua các khoảng trắng\n",
    "# 'WC' - Tìm từ \"WC\" (nhà vệ sinh)\n"
   ]
  },
  {
   "cell_type": "code",
   "execution_count": 299,
   "metadata": {},
   "outputs": [],
   "source": [
    "# Hàm để trích xuất thông tin từ một chuỗi văn bản\n",
    "def extract_info(text):\n",
    "    # Kiểm tra nếu text là None hoặc NaN thì gán giá trị rỗng\n",
    "    if text is None or pd.isna(text):\n",
    "        text = ''  # Khởi tạo giá trị rỗng nếu text là None hoặc NaN\n",
    "    # Nếu text không phải là chuỗi, chuyển đổi nó sang chuỗi\n",
    "    elif not isinstance(text, str):\n",
    "        text = str(text)  # Chuyển đổi giá trị sang chuỗi nếu không phải là chuỗi\n",
    "    \n",
    "    # Tìm kiếm các mẫu trong text\n",
    "    price_match = price_pattern.search(text)\n",
    "    area_match = area_pattern.search(text)\n",
    "    bedroom_match = bedroom_pattern.search(text)\n",
    "    wc_match = wc_pattern.search(text)\n",
    "    \n",
    "    price = None\n",
    "    # Nếu tìm thấy giá\n",
    "    if price_match:\n",
    "        number = price_match.group(1).replace(',', '.')\n",
    "        unit = price_match.group(2)\n",
    "        # Chuyển đổi giá trị sang VND dựa trên đơn vị\n",
    "        if unit and unit.lower() in ['tỷ', 'tỷ', 'tỉ']:\n",
    "            price = float(number) * 1_000_000_000  # Chuyển đổi tỷ sang VND\n",
    "        elif unit and unit.lower() in ['triệu', 'triệu']:\n",
    "            price = float(number) * 1_000_000  # Chuyển đổi triệu sang VND\n",
    "        else:\n",
    "            price = float(number)  # Nếu không có đơn vị, chỉ trả về số dưới dạng float\n",
    "    \n",
    "    area = None\n",
    "    # Nếu tìm thấy diện tích\n",
    "    if area_match:\n",
    "        if area_match.group(3):\n",
    "            area = float(area_match.group(3))  # Diện tích tổng (150m2)\n",
    "        else:\n",
    "            width = float(area_match.group(1))\n",
    "            length = float(area_match.group(2))\n",
    "            area = width * length  # Tính diện tích từ chiều dài và chiều rộng\n",
    "    \n",
    "    # Trích xuất số phòng ngủ nếu tìm thấy\n",
    "    bedrooms = bedroom_match.group(1) if bedroom_match else None\n",
    "    # Trích xuất số nhà vệ sinh nếu tìm thấy\n",
    "    wcs = wc_match.group(1) if wc_match else None\n",
    "    \n",
    "    # Trả về kết quả dưới dạng Series của pandas\n",
    "    return pd.Series([price, area, bedrooms, wcs])"
   ]
  },
  {
   "cell_type": "code",
   "execution_count": 300,
   "metadata": {},
   "outputs": [],
   "source": [
    "# Hàm để trích xuất thông tin từ cả 'Title' và 'Description'\n",
    "def extract_info_from_row(row):\n",
    "    title_info = extract_info(row['Title'])\n",
    "    description_info = extract_info(row['Description'])\n",
    "    \n",
    "    # Nếu thông tin từ Description không có, lấy thông tin từ Title\n",
    "    final_info = title_info.combine_first(description_info)\n",
    "    \n",
    "    return final_info"
   ]
  },
  {
   "cell_type": "code",
   "execution_count": 301,
   "metadata": {},
   "outputs": [
    {
     "name": "stderr",
     "output_type": "stream",
     "text": [
      "C:\\Users\\Admin\\AppData\\Local\\Temp\\ipykernel_10624\\1363349392.py:7: FutureWarning: The behavior of array concatenation with empty entries is deprecated. In a future version, this will no longer exclude empty items when determining the result dtype. To retain the old behavior, exclude the empty entries before the concat operation.\n",
      "  final_info = title_info.combine_first(description_info)\n"
     ]
    }
   ],
   "source": [
    "# Áp dụng hàm extract_info_from_row lên từng hàng của DataFrame và lưu kết quả vào các cột mới\n",
    "df[['Extracted_Price', 'Extracted_Area', 'Extracted_Bedrooms', 'Extracted_WCs']] = df.apply(extract_info_from_row, axis = 1)\n",
    "\n",
    "# Chuyển đổi cột 'Price' sang kiểu số, nếu có lỗi thì gán giá trị NaN\n",
    "df['Price'] = pd.to_numeric(df['Price'], errors='coerce')\n",
    "\n",
    "# Cập nhật cột 'Price' theo điều kiện: nếu 'Price' ban đầu là NaN hoặc lớn hơn 1000 thì lấy giá trị từ 'Extracted_Price'\n",
    "df['Price'] = df.apply(lambda row: row['Extracted_Price'] if pd.isnull(row['Price']) or row['Price'] > 1000 else row['Price'], axis = 1)\n",
    "\n",
    "# Hàm để điền thông tin số phòng ngủ (bedrooms) và số nhà vệ sinh (WCs) từ các giá trị đã trích xuất\n",
    "def fill_bedrooms_and_wcs(row):\n",
    "    if pd.isnull(row['Bedrooms']):\n",
    "        row['Bedrooms'] = row['Extracted_Bedrooms']  # Nếu 'Bedrooms' ban đầu là NaN thì lấy giá trị từ 'Extracted_Bedrooms'\n",
    "    if pd.isnull(row['WCs']):\n",
    "        row['WCs'] = row['Extracted_WCs']  # Nếu 'WCs' ban đầu là NaN thì lấy giá trị từ 'Extracted_WCs'\n",
    "    return row\n",
    "\n",
    "# Áp dụng hàm fill_bedrooms_and_wcs lên từng hàng của DataFrame\n",
    "df = df.apply(fill_bedrooms_and_wcs, axis = 1)\n",
    "\n",
    "# Xuất DataFrame mới ra file CSV\n",
    "df.to_csv(file_output, index = False)"
   ]
  },
  {
   "cell_type": "code",
   "execution_count": 302,
   "metadata": {},
   "outputs": [
    {
     "name": "stdout",
     "output_type": "stream",
     "text": [
      "   No  Price                                              Title  Area  \\\n",
      "0   1    NaN  Cửa gỗ công nghiệp MDF laminate cao cấp tại Qu...   NaN   \n",
      "1   2    NaN   ��The power of online advertising facebook ads��   NaN   \n",
      "2   3    NaN  ��️ Email/SMS Marketing - Sustainable communic...   NaN   \n",
      "3   4   13.5  Siêu rẻ ! Nhà 1 Đời Chủ, 2 MT Hoàng Sa, Q1, Đo...  44.0   \n",
      "4   5    NaN  Maxads - leading the trend of MULTIMEDIA ADVER...   NaN   \n",
      "\n",
      "  Bedrooms   WCs District             Postdate  \\\n",
      "0      NaN   NaN   quan-1  2023-11-22 11:08:20   \n",
      "1     None  None   quan-1  2023-11-23 10:27:56   \n",
      "2     None  None   quan-1  2023-11-24 09:44:58   \n",
      "3      NaN   NaN   quan-1  2023-11-24 16:39:03   \n",
      "4     None  None   quan-1  2023-11-25 09:55:56   \n",
      "\n",
      "                                         Description  Extracted_Price  \\\n",
      "0   |HOTLINE  zalo 035.312.6411  0888.696.029 NVK...              NaN   \n",
      "1  advertising forms quotas a springboardquot bec...              NaN   \n",
      "2  interaction strategy. Connect and build a clos...              NaN   \n",
      "3  Chủ kẹt cần bán gấp nhà 2 MT Hoàng Sa, Phường ...     1.350000e+10   \n",
      "4   Youtube Ads is a form of advertising that hel...              NaN   \n",
      "\n",
      "   Extracted_Area Extracted_Bedrooms Extracted_WCs  \n",
      "0          4950.0                NaN           NaN  \n",
      "1             NaN               None          None  \n",
      "2             NaN               None          None  \n",
      "3            44.0                NaN           NaN  \n",
      "4             NaN               None          None  \n"
     ]
    }
   ],
   "source": [
    "print(df.head())"
   ]
  },
  {
   "cell_type": "code",
   "execution_count": 303,
   "metadata": {},
   "outputs": [],
   "source": [
    "# Loại bỏ cột No và cột Title không cần thiết \n",
    "df = df.drop(columns = df.columns[[0, 2]])"
   ]
  },
  {
   "cell_type": "code",
   "execution_count": 304,
   "metadata": {},
   "outputs": [
    {
     "name": "stdout",
     "output_type": "stream",
     "text": [
      "             Price   Area Bedrooms   WCs District             Postdate  \\\n",
      "0              NaN    NaN      NaN   NaN   quan-1  2023-11-22 11:08:20   \n",
      "1              NaN    NaN      NaN   NaN   quan-1  2023-11-23 10:27:56   \n",
      "2              NaN    NaN      NaN   NaN   quan-1  2023-11-24 09:44:58   \n",
      "3     1.350000e+01   44.0      NaN   NaN   quan-1  2023-11-24 16:39:03   \n",
      "4              NaN    NaN      NaN   NaN   quan-1  2023-11-25 09:55:56   \n",
      "...            ...    ...      ...   ...      ...                  ...   \n",
      "9979  7.000000e+00  170.0     None  None  thu-duc  2022-10-27 16:24:29   \n",
      "9980  3.300000e+00   40.0      4.0   2.0  thu-duc  2022-10-27 14:48:46   \n",
      "9981  1.300000e+01   52.8      4.0   5.0  thu-duc  2022-10-27 09:36:50   \n",
      "9982  5.600000e+09  112.0      3.0   2.0  thu-duc  2022-10-26 22:29:32   \n",
      "9983  6.000000e+00  100.0     None  None  thu-duc  2022-10-25 13:03:53   \n",
      "\n",
      "                                            Description  Extracted_Price  \\\n",
      "0      |HOTLINE  zalo 035.312.6411  0888.696.029 NVK...              NaN   \n",
      "1     advertising forms quotas a springboardquot bec...              NaN   \n",
      "2     interaction strategy. Connect and build a clos...              NaN   \n",
      "3     Chủ kẹt cần bán gấp nhà 2 MT Hoàng Sa, Phường ...     1.350000e+10   \n",
      "4      Youtube Ads is a form of advertising that hel...              NaN   \n",
      "...                                                 ...              ...   \n",
      "9979   | Thuận tiện di chuyển ra PHẠM VĂN ĐỒNG, BÌNH...              NaN   \n",
      "9980   | Nhà kết cấu 3 tầng kiên cố4m x 10m. | Khu v...     3.300000e+09   \n",
      "9981   Nhà 1 trệt 3 lầu, sân thượng, gồm có 4 phòng ...     1.300000e+10   \n",
      "9982  Cách mặt tiền Nguyễn Duy Trinh 300m. |Mô tả |D...     5.600000e+09   \n",
      "9983   | TRƯƠNG DIỄM 0703738688 xem nhà ngay. | | Nh...              NaN   \n",
      "\n",
      "      Extracted_Area Extracted_Bedrooms Extracted_WCs  \n",
      "0             4950.0                NaN           NaN  \n",
      "1                NaN                NaN           NaN  \n",
      "2                NaN                NaN           NaN  \n",
      "3               44.0                NaN           NaN  \n",
      "4                NaN                NaN           NaN  \n",
      "...              ...                ...           ...  \n",
      "9979             NaN               None          None  \n",
      "9980             NaN               None          None  \n",
      "9981             NaN               None          None  \n",
      "9982             NaN               None          None  \n",
      "9983             NaN               None          None  \n",
      "\n",
      "[9984 rows x 11 columns]\n"
     ]
    }
   ],
   "source": [
    "print(df)"
   ]
  },
  {
   "cell_type": "markdown",
   "metadata": {},
   "source": [
    "#### **Issue 04:**"
   ]
  },
  {
   "cell_type": "markdown",
   "metadata": {},
   "source": [
    "Perform detailed processing, calculations, and filling of missing values. Additionally, add a feature called **`Price_per_sqm`** (price per square meter)."
   ]
  },
  {
   "cell_type": "code",
   "execution_count": 305,
   "metadata": {},
   "outputs": [],
   "source": [
    "# Chuyển đổi các cột 'Price' và 'Area' sang kiểu số (float) để thực hiện các bước xử lí, tính toán dễ dàng hơn.\n",
    "df['Price'] = df['Price'].astype(float)\n",
    "df['Area'] = df['Area'].astype(float)"
   ]
  },
  {
   "cell_type": "code",
   "execution_count": 306,
   "metadata": {},
   "outputs": [],
   "source": [
    "# Hàm xử lý cột Price\n",
    "def process_price(df):\n",
    "    def convert_price(price):\n",
    "        if pd.isnull(price):\n",
    "            return price\n",
    "        price = float(price)\n",
    "        if price > 1e9:\n",
    "            return price / 1e9  # Nếu giá trị lớn hơn 1 tỷ, chuyển sang đơn vị tỷ\n",
    "        elif price > 1e6:\n",
    "            return price / 1e6  # Nếu giá trị lớn hơn 1 triệu, chuyển sang đơn vị triệu\n",
    "        elif price > 1e3:\n",
    "            return price / 1e3  # Nếu giá trị lớn hơn 1 nghìn, chuyển sang đơn vị nghìn\n",
    "        return price  # Trả về giá trị gốc nếu nhỏ hơn 1 nghìn\n",
    "    \n",
    "    df['Price'] = df['Price'].apply(convert_price)  # Áp dụng hàm convert_price cho cột 'Price'\n",
    "    return df\n",
    "\n",
    "df = process_price(df)\n",
    "\n",
    "# Hàm tính giá trên một mét vuông\n",
    "def price_per_sqm(df):\n",
    "    df['Price_per_sqm'] = df.apply(lambda row: row['Price'] / row['Area'] if pd.notnull(row['Price']) and pd.notnull(row['Area']) else np.nan, axis = 1)\n",
    "    # Tạo cột 'Price_per_sqm' bằng cách lấy 'Price' chia cho 'Area' nếu cả hai đều không bị null, ngược lại trả về NaN\n",
    "    return df\n",
    "\n",
    "\n",
    "# Hàm điền giá trị thiếu\n",
    "def fill_miss_vals(df):\n",
    "    # Tính giá trị trung bình của 'Price', 'Area', và 'Price_per_sqm' theo 'District'\n",
    "    district_means = df.groupby('District').mean(numeric_only = True)\n",
    "    \n",
    "    # Điền giá trị thiếu cho 'Price' bằng giá trị trung bình của 'District'\n",
    "    for idx, row in df.iterrows():\n",
    "        if pd.isnull(row['Price']):\n",
    "            df.at[idx, 'Price'] = district_means.loc[row['District'], 'Price']\n",
    "    \n",
    "    # Tính lại giá trên một mét vuông\n",
    "    df = price_per_sqm(df)\n",
    "    \n",
    "    # Điền giá trị thiếu cho 'Area' và 'Price' dựa trên 'Price_per_sqm'\n",
    "    for idx, row in df.iterrows():\n",
    "        if pd.isnull(row['Area']) and pd.notnull(row['Price']):\n",
    "            df.at[idx, 'Area'] = row['Price'] / row['Price_per_sqm']  # Tính diện tích dựa trên giá trị 'Price' và 'Price_per_sqm'\n",
    "        elif pd.isnull(row['Price']) and pd.notnull(row['Area']):\n",
    "            df.at[idx, 'Price'] = row['Area'] * row['Price_per_sqm']  # Tính giá trị 'Price' dựa trên 'Area' và 'Price_per_sqm'\n",
    "        elif pd.isnull(row['Price']) and pd.isnull(row['Area']):\n",
    "            df.at[idx, 'Price'] = district_means.loc[row['District'], 'Price']  # Điền 'Price' bằng giá trị trung bình của quận\n",
    "            df.at[idx, 'Area'] = district_means.loc[row['District'], 'Area']  # Điền 'Area' bằng giá trị trung bình của quận\n",
    "    \n",
    "    \n",
    "    # Xử lý các giá trị 'Area' vẫn còn thiếu\n",
    "    for idx, row in df.iterrows():\n",
    "        if pd.isnull(row['Area']):  \n",
    "            df.at[idx, 'Area'] = district_means.loc[row['District'], 'Area']\n",
    "\n",
    "    # Điền giá trị thiếu cho 'Price_per_sqm' nếu còn thiếu\n",
    "    for idx, row in df.iterrows():\n",
    "        if pd.isnull(row['Price_per_sqm']) and pd.notnull(row['Price']) and pd.notnull(row['Area']):\n",
    "            df.at[idx, 'Price_per_sqm'] = row['Price'] / row['Area']  # Tính lại 'Price_per_sqm' nếu thiếu và các giá trị khác không bị null\n",
    "    \n",
    "\n",
    "    # Làm tròn các giá trị vừa điền vào\n",
    "    df['Price'] = df['Price'].round(2)  # Làm tròn giá trị 'Price' đến 2 chữ số thập phân\n",
    "    df['Area'] = df['Area'].round(2)  # Làm tròn giá trị 'Area' đến 2 chữ số thập phân\n",
    "    df['Price_per_sqm'] = df['Price_per_sqm'].round(2)  # Làm tròn giá trị 'Price_per_sqm' đến 2 chữ số thập phân\n",
    "\n",
    "    return df"
   ]
  },
  {
   "cell_type": "code",
   "execution_count": 307,
   "metadata": {},
   "outputs": [
    {
     "name": "stdout",
     "output_type": "stream",
     "text": [
      "1012\n",
      "817\n"
     ]
    }
   ],
   "source": [
    "# Kiểm tra giá trị null trong cột 'Area' và 'Price'\n",
    "null_area = df['Area'].isnull().sum()\n",
    "print(null_area)\n",
    "null_price = df['Price'].isnull().sum()\n",
    "print(null_price)"
   ]
  },
  {
   "cell_type": "code",
   "execution_count": 308,
   "metadata": {},
   "outputs": [],
   "source": [
    "# Thêm cột giá trên 1 mét vuông\n",
    "df = price_per_sqm(df)"
   ]
  },
  {
   "cell_type": "markdown",
   "metadata": {},
   "source": [
    "For the purpose of discarding unreasonable data."
   ]
  },
  {
   "cell_type": "code",
   "execution_count": 309,
   "metadata": {},
   "outputs": [],
   "source": [
    "# Hàm để cập nhật cột Price theo điều kiện price_per_sqm > 1\n",
    "def update_price(row):\n",
    "    # Kiểm tra nếu 'Area' không phải là None và lớn hơn 0\n",
    "    if row['Area'] and row['Area'] > 0:  # Đảm bảo diện tích không phải là None hoặc 0\n",
    "        # Tính giá trên mỗi mét vuông\n",
    "        price_per_sqm = row['Price'] / row['Area']\n",
    "        # Nếu giá trên mỗi mét vuông lớn hơn 1\n",
    "        if price_per_sqm > 1:\n",
    "            # Trả về giá trị từ 'Extracted_Price'\n",
    "            return row['Extracted_Price']\n",
    "    # Nếu không thỏa mãn điều kiện, trả về giá trị ban đầu của 'Price'\n",
    "    return row['Price']\n",
    "\n",
    "# Áp dụng hàm update_price lên từng hàng của DataFrame\n",
    "df['Price'] = df.apply(update_price, axis = 1)"
   ]
  },
  {
   "cell_type": "code",
   "execution_count": 310,
   "metadata": {},
   "outputs": [],
   "source": [
    "# Điền giá trị thiếu cho 'Price' và 'Area'\n",
    "df = fill_miss_vals(df)"
   ]
  },
  {
   "cell_type": "code",
   "execution_count": 311,
   "metadata": {},
   "outputs": [],
   "source": [
    "# Thực hiện xử lí các giá trị ở cột Price để dữ liệu chuẩn hơn, hợp lý hơn.\n",
    "df = process_price(df)"
   ]
  },
  {
   "cell_type": "markdown",
   "metadata": {},
   "source": [
    "#### **Issue 05:**"
   ]
  },
  {
   "cell_type": "markdown",
   "metadata": {},
   "source": [
    "The next issue with the data is that there are too many duplicate rows.\n",
    "\n",
    "Initially, after using Python's built-in command to remove duplicates `drop_duplicates()` (removing rows that are 100% identical), I realized that many duplicates still remained due to the following reasons:\n",
    "* The same house was posted multiple times with different descriptions.\n",
    "* The same house was posted at different times or on different dates.\n",
    "* ...\n",
    "\n",
    "These reasons caused the duplicates not to be completely removed, as Python's built-in function only deletes rows that are 100% identical. Since the **`Postdate`** and **`Description`** fields had slight differences, the built-in function `drop_duplicates()` could not effectively handle this."
   ]
  },
  {
   "cell_type": "markdown",
   "metadata": {},
   "source": [
    "The following tasks we handled focused on the **`Postdate`** and **`Description`** "
   ]
  },
  {
   "cell_type": "code",
   "execution_count": 312,
   "metadata": {},
   "outputs": [],
   "source": [
    "# Xử lí cột Postdate (chỉ giữ lại Ngày xoá Giờ)\n",
    "# Chuyển đổi cột 'Postdate' sang kiểu datetime\n",
    "df['Postdate'] = pd.to_datetime(df['Postdate'])\n",
    "\n",
    "# Tạo một cột mới chỉ chứa ngày\n",
    "df['Date'] = df['Postdate'].dt.date\n",
    "\n",
    "# Tìm vị trí (index) của cột 'Postdate'\n",
    "col_index = df.columns.get_loc('Postdate')\n",
    "\n",
    "# Xóa cột 'Postdate' cũ \n",
    "df = df.drop(columns = ['Postdate'])\n",
    "\n",
    "# Chèn cột 'Date' mới vào đúng vị trí cũ của cột 'Postdate'\n",
    "df.insert(col_index, 'Postdate', df.pop('Date'))"
   ]
  },
  {
   "cell_type": "code",
   "execution_count": 313,
   "metadata": {},
   "outputs": [],
   "source": [
    "# Load lại những thay đổi vào file clean_data.csv\n",
    "df.to_csv(file_output, index = False)"
   ]
  },
  {
   "cell_type": "markdown",
   "metadata": {},
   "source": [
    "At this point, after running the program, an additional error appeared (Unusual line terminators). After some research, we found a solution using the `remove_unusual_line_terminators` function."
   ]
  },
  {
   "cell_type": "code",
   "execution_count": 314,
   "metadata": {},
   "outputs": [],
   "source": [
    "def remove_unusual_line_terminators(file_input, file_output):\n",
    "    with open(file_input, 'r', encoding='utf-8') as infile:\n",
    "        content = infile.read()\n",
    "\n",
    "    # Loại bỏ các ký tự kết thúc dòng không bình thường (LS và PS)\n",
    "    cleaned_content = content.replace('\\u2028', '\\n').replace('\\u2029', '\\n')\n",
    "\n",
    "    with open(file_output, 'w', encoding='utf-8', newline='') as outfile:\n",
    "        outfile.write(cleaned_content)"
   ]
  },
  {
   "cell_type": "markdown",
   "metadata": {},
   "source": [
    "Remove all duplicate rows."
   ]
  },
  {
   "cell_type": "code",
   "execution_count": 315,
   "metadata": {},
   "outputs": [],
   "source": [
    "def remove_duplicates(df):\n",
    "    # Đảm bảo rằng các giá trị trong 'Postdate' và 'Description' là chuỗi\n",
    "    df['Postdate'] = df['Postdate'].astype(str)\n",
    "    df['Description'] = df['Description'].astype(str)\n",
    "    \n",
    "    # Bước 1: Loại bỏ các dòng trùng lặp mà tất cả các cột đều giống nhau\n",
    "    df = df.drop_duplicates()\n",
    "    \n",
    "    # Bước 2: Nhóm các dòng theo các cột 'Price', 'Area', 'Bedrooms', 'WCs', 'District'\n",
    "    grouped = df.groupby(['Price', 'Area', 'Bedrooms', 'WCs', 'District'], dropna=False)\n",
    "    \n",
    "    # Danh sách các chỉ số của các dòng cần giữ lại\n",
    "    indices_to_keep = set(df.index)\n",
    "\n",
    "    def similar(a, b):\n",
    "        return SequenceMatcher(None, a, b).ratio()\n",
    "    \n",
    "    # Lặp qua từng nhóm để kiểm tra sự tương đồng\n",
    "    for _, group in grouped:\n",
    "        group_indices = list(group.index)\n",
    "        for i in range(len(group_indices)):\n",
    "            for j in range(i + 1, len(group_indices)):\n",
    "                idx1, idx2 = group_indices[i], group_indices[j]\n",
    "                row1, row2 = df.loc[idx1], df.loc[idx2]\n",
    "                # Kiểm tra sự tương đồng của 'Description' và ngày 'Postdate'\n",
    "                postdate_similarity = similar(row1['Postdate'], row2['Postdate'])\n",
    "                description_similarity = similar(row1['Description'], row2['Description'])\n",
    "                if postdate_similarity > 0.75 and description_similarity > 0.5:\n",
    "                    indices_to_keep.discard(idx2)\n",
    "    \n",
    "    # Chuyển đổi tập hợp các chỉ số cần giữ lại thành danh sách\n",
    "    indices_to_keep = list(indices_to_keep)\n",
    "    \n",
    "    # Lọc lại DataFrame với các chỉ số cần giữ lại\n",
    "    df_cleaned = df.loc[indices_to_keep].reset_index(drop=True)\n",
    "    \n",
    "    # Trả về DataFrame đã loại bỏ các dòng trùng lặp\n",
    "    return df_cleaned"
   ]
  },
  {
   "cell_type": "code",
   "execution_count": 316,
   "metadata": {},
   "outputs": [],
   "source": [
    "# Áp dụng hàm remove_duplicates lên DataFrame đã được làm sạch\n",
    "df = remove_duplicates(df)"
   ]
  },
  {
   "cell_type": "markdown",
   "metadata": {},
   "source": [
    "#### **Issue 06:**"
   ]
  },
  {
   "cell_type": "markdown",
   "metadata": {},
   "source": [
    "Old posts can cause inaccuracies with the current timeframe, so we decided to delete outdated data (specifically, house sale posts from 2022)."
   ]
  },
  {
   "cell_type": "code",
   "execution_count": 317,
   "metadata": {},
   "outputs": [
    {
     "data": {
      "text/plain": [
       "dtype('O')"
      ]
     },
     "execution_count": 317,
     "metadata": {},
     "output_type": "execute_result"
    }
   ],
   "source": [
    "# Xem kiểu dữ liệu của cột \"Postdate\"\n",
    "df['Postdate'].dtype"
   ]
  },
  {
   "cell_type": "code",
   "execution_count": 318,
   "metadata": {},
   "outputs": [
    {
     "data": {
      "text/plain": [
       "dtype('<M8[ns]')"
      ]
     },
     "execution_count": 318,
     "metadata": {},
     "output_type": "execute_result"
    }
   ],
   "source": [
    "# Chuyển kiểu dữ liệu của cột \"Postdate\" sang dạng datetime và check lại kiểu dữ liệu 1 lần nữa\n",
    "df['Postdate'] = pd.to_datetime(df['Postdate'])\n",
    "df['Postdate'].dtype"
   ]
  },
  {
   "cell_type": "code",
   "execution_count": 319,
   "metadata": {},
   "outputs": [],
   "source": [
    "# Loại bỏ các data có ngày đăng tin là 2022 và lưu lại vào file csv\n",
    "df = df[df['Postdate'].dt.year != 2022]"
   ]
  },
  {
   "cell_type": "markdown",
   "metadata": {},
   "source": [
    "#### **Issue 07:**"
   ]
  },
  {
   "cell_type": "markdown",
   "metadata": {},
   "source": [
    "After the above data processing steps, upon re-evaluating the data, we noticed that some data entries were still unreasonable. Therefore, we proceeded to delete these unreasonable data entries."
   ]
  },
  {
   "cell_type": "code",
   "execution_count": 320,
   "metadata": {},
   "outputs": [],
   "source": [
    "def remove_invalid(df):\n",
    "    return df[(df['Price_per_sqm'] <= 2) & (df['Price_per_sqm'] >= 0.03)]\n",
    "\n",
    "df = remove_invalid(df)"
   ]
  },
  {
   "cell_type": "markdown",
   "metadata": {},
   "source": [
    "We noticed that house prices were not reasonable in some areas, so we adjusted the prices to be more accurate."
   ]
  },
  {
   "cell_type": "code",
   "execution_count": 321,
   "metadata": {},
   "outputs": [],
   "source": [
    "# Danh sách các quận cần điều chỉnh\n",
    "districts = ['binh-chanh', 'binh-tan', 'hoc-mon', 'cu-chi', 'tan-binh', 'quan-8', 'quan-12']\n",
    "\n",
    "def adjust_price(row):\n",
    "    if any(district in row['District'] for district in districts) and row['Price_per_sqm'] > 1:\n",
    "        return row['Price'] / 1_000\n",
    "    return row['Price']\n",
    "\n",
    "# Áp dụng hàm adjust_price_for_district\n",
    "df['Price'] = df.apply(adjust_price, axis = 1)\n"
   ]
  },
  {
   "cell_type": "code",
   "execution_count": 322,
   "metadata": {},
   "outputs": [],
   "source": [
    "# Tạo lại cột No\n",
    "df.insert(0, 'No', range(1, len(df) + 1))"
   ]
  },
  {
   "cell_type": "code",
   "execution_count": 323,
   "metadata": {},
   "outputs": [],
   "source": [
    "# Lưu lại DataFrame vào file CSV\n",
    "df.to_csv(file_output, index = False)"
   ]
  },
  {
   "cell_type": "code",
   "execution_count": 324,
   "metadata": {},
   "outputs": [
    {
     "data": {
      "text/plain": [
       "No                       0\n",
       "Price                    0\n",
       "Area                     0\n",
       "Bedrooms              1834\n",
       "WCs                   2182\n",
       "District                 0\n",
       "Postdate                 0\n",
       "Description              0\n",
       "Extracted_Price       3535\n",
       "Extracted_Area        4039\n",
       "Extracted_Bedrooms    4422\n",
       "Extracted_WCs         4638\n",
       "Price_per_sqm            0\n",
       "dtype: int64"
      ]
     },
     "execution_count": 324,
     "metadata": {},
     "output_type": "execute_result"
    }
   ],
   "source": [
    "# Check for missing values in the dataset\n",
    "missing_values = df.isnull().sum()\n",
    "missing_values"
   ]
  }
 ],
 "metadata": {
  "kernelspec": {
   "display_name": "base",
   "language": "python",
   "name": "python3"
  },
  "language_info": {
   "codemirror_mode": {
    "name": "ipython",
    "version": 3
   },
   "file_extension": ".py",
   "mimetype": "text/x-python",
   "name": "python",
   "nbconvert_exporter": "python",
   "pygments_lexer": "ipython3",
   "version": "3.11.7"
  }
 },
 "nbformat": 4,
 "nbformat_minor": 2
}
