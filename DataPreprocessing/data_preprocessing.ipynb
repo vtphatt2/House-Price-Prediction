{
 "cells": [
  {
   "cell_type": "code",
   "execution_count": 362,
   "metadata": {},
   "outputs": [],
   "source": [
    "import pandas as pd\n",
    "import numpy as np \n",
    "import csv\n",
    "import re\n",
    "from difflib import SequenceMatcher"
   ]
  },
  {
   "cell_type": "markdown",
   "metadata": {},
   "source": [
    "### **Problem 01:**"
   ]
  },
  {
   "cell_type": "code",
   "execution_count": 363,
   "metadata": {},
   "outputs": [],
   "source": [
    "file_input = '../Data/temp_data.csv'\n",
    "file_output = '../Data/clean_data.csv'"
   ]
  },
  {
   "cell_type": "code",
   "execution_count": 364,
   "metadata": {},
   "outputs": [],
   "source": [
    "# Hàm sửa lỗi dư hoặc thiếu dấu ngoặc kép trong file CSV\n",
    "def fix_csv_quotes(file_input, file_output):\n",
    "    # Mở file đầu vào để đọc và file đầu ra để ghi\n",
    "    with open(file_input, 'r', encoding = 'utf-8') as infile, open(file_output, 'w', newline = '', encoding = 'utf-8') as outfile:\n",
    "        # Đọc tất cả các dòng từ file đầu vào\n",
    "        reader = infile.readlines()\n",
    "        # Tạo writer để ghi vào file đầu ra\n",
    "        writer = csv.writer(outfile)\n",
    "\n",
    "        # Lặp qua từng dòng trong file đầu vào\n",
    "        for line in reader:\n",
    "            # Kiểm tra số lượng dấu ngoặc kép trong dòng\n",
    "            num_quotes = line.count('\"')\n",
    "            # Nếu số lượng dấu ngoặc kép là số lẻ, thêm một dấu ngoặc kép ở cuối dòng\n",
    "            if num_quotes % 2 != 0:\n",
    "                line = line.strip() + '\"\\n'\n",
    "            # Ghi lại dòng đã sửa vào file đầu ra\n",
    "            writer.writerow(next(csv.reader([line], skipinitialspace = True)))"
   ]
  },
  {
   "cell_type": "code",
   "execution_count": 365,
   "metadata": {},
   "outputs": [],
   "source": [
    "fix_csv_quotes(file_input, file_output)"
   ]
  },
  {
   "cell_type": "markdown",
   "metadata": {},
   "source": [
    "### **Problem 02:**"
   ]
  },
  {
   "cell_type": "code",
   "execution_count": 366,
   "metadata": {},
   "outputs": [],
   "source": [
    "column_index = 8  # Chỉ số của cột cần làm sạch (bắt đầu từ 0), cột 8 là cột Description\n",
    "\n",
    "def clean_string(string):\n",
    "\n",
    "    \"\"\"\n",
    "    Hàm này sẽ làm sạch chuỗi bằng cách loại bỏ các biểu tượng và ký tự không cần thiết.\n",
    "    (nhưng giữ lại các kí tự chữ (hoa và thường), số, dấu chấm, dấu phẩy, dấu | )\n",
    "    \n",
    "    string: Chuỗi cần làm sạch.\n",
    "    cleanString: Chuỗi đã được làm sạch.\n",
    "\n",
    "    \"\"\"\n",
    "\n",
    "    # Hàm isinstance check xem data input của mình có phải là string không \n",
    "    if isinstance(string, str):\n",
    "        cleanString = re.sub(r'[^\\w\\s.,|]', '', string) # Xoá tất cả các kí tự ngoại trừ chữ (thường, hoa), số, dấu chấm, dấu phẩy, dấu |\n",
    "        return cleanString\n",
    "    else:\n",
    "        return string"
   ]
  },
  {
   "cell_type": "code",
   "execution_count": 367,
   "metadata": {},
   "outputs": [],
   "source": [
    "def clean_file_csv(file_input, file_output, column_index):\n",
    "\n",
    "    \"\"\"\n",
    "    Hàm này sẽ làm sạch một cột cụ thể trong file CSV, do có những cột khác (VD cột Postdate có dấu : ), \n",
    "    Vì vậy nếu apply full file csv nó sẽ fix hết cả những cột không cần thiết -> chỉ áp dụng chính xác cột cần xử lí thôi.\n",
    "\n",
    "    input_csv (str): Đường dẫn tới file CSV đầu vào (temp_data).\n",
    "    output_csv (str): Đường dẫn tới file CSV đầu ra (clean_data).\n",
    "    column_index (int): Chỉ số của cột cần làm sạch.\n",
    "    \"\"\"\n",
    "\n",
    "    # Đọc file CSV vào DataFrame\n",
    "    df = pd.read_csv(file_input, on_bad_lines = 'skip')\n",
    "\n",
    "    # Kiểm tra xem chỉ số cột có hợp lệ không\n",
    "    if column_index < len(df.columns):\n",
    "        # Áp dụng hàm làm sạch cho cột cụ thể\n",
    "        col = df.columns[column_index]\n",
    "        df[col] = df[col].apply(clean_string)\n",
    "    else:\n",
    "        print(f\"Invalid column index !\")\n",
    "\n",
    "    # Lưu lại DataFrame đã được làm sạch thành file CSV mới\n",
    "    df.to_csv(file_output, index = False)\n",
    "\n"
   ]
  },
  {
   "cell_type": "code",
   "execution_count": 368,
   "metadata": {},
   "outputs": [],
   "source": [
    "clean_file_csv(file_input, file_output, column_index)"
   ]
  },
  {
   "cell_type": "markdown",
   "metadata": {},
   "source": [
    "### **Problem 03:**"
   ]
  },
  {
   "cell_type": "code",
   "execution_count": 369,
   "metadata": {},
   "outputs": [],
   "source": [
    "# Đọc lại file csv, xoá các dòng bị lỗi \n",
    "# (mình nhận thấy số lượng dòng bị lỗi không nhiều ~ 10 dòng nên mình sẽ skip luôn vì tụi mình có nhiều data mà =))))\n",
    "df = pd.read_csv('../Data/clean_data.csv', on_bad_lines = 'skip')\n",
    "\n",
    "# Loại bỏ cột No và cột Title không cần thiết \n",
    "df = df.drop(columns = df.columns[[0, 2]])\n",
    "\n",
    "# Thay thế \"Thoả thuận\" bằng NaN cho dễ xử lí về sau (tạm thời)\n",
    "df['Price'] = df['Price'].replace('TT', np.nan)\n",
    "\n",
    "# Thiết lập ngưỡng cho số lượng giá trị NaN tối đa cho phép trong một hàng\n",
    "max_nan = 3  \n",
    "\n",
    "# Xóa các hàng có số lượng giá trị NaN lớn hơn ngưỡng\n",
    "df = df.dropna(thresh = len(df.columns) - max_nan)  # thresh: chỉ định số lượng giá trị NOT NULL cần thiết để giữ lại hàng\n",
    "\n",
    "# Xử lí cột Price \n",
    "# df = df[df['Price'] <= 1000]\n",
    "df['Price'] = df['Price'].astype(float)\n",
    "df['Price'] = df['Price'].apply(lambda x: x / 1e9 if x > 1e9 else x / 1000 if x > 1000 else x)\n",
    "df['Price'] = df['Price'].round(2)\n",
    "\n",
    "\n",
    "# Xử lí cột Postdate (chỉ giữ lại Ngày xoá Giờ)\n",
    "# Chuyển đổi cột 'Postdate' sang kiểu datetime\n",
    "df['Postdate'] = pd.to_datetime(df['Postdate'])\n",
    "\n",
    "# Tạo một cột mới chỉ chứa ngày\n",
    "df['Date'] = df['Postdate'].dt.date\n",
    "\n",
    "# Tìm vị trí (index) của cột 'Postdate'\n",
    "col_index = df.columns.get_loc('Postdate')\n",
    "\n",
    "# Xóa cột 'Postdate' cũ \n",
    "df = df.drop(columns = ['Postdate'])\n",
    "\n",
    "# Chèn cột 'Date' mới vào đúng vị trí cũ của cột 'Postdate'\n",
    "df.insert(col_index, 'Postdate', df.pop('Date'))\n",
    "\n",
    "# Load lại những thay đổi vào file clean_data.csv\n",
    "df.to_csv(file_output, index = False)\n"
   ]
  },
  {
   "cell_type": "code",
   "execution_count": 370,
   "metadata": {},
   "outputs": [],
   "source": [
    "def remove_unusual_line_terminators(file_input, file_output):\n",
    "    with open(file_input, 'r', encoding='utf-8') as infile:\n",
    "        content = infile.read()\n",
    "\n",
    "    # Loại bỏ các ký tự kết thúc dòng không bình thường (LS và PS)\n",
    "    cleaned_content = content.replace('\\u2028', '\\n').replace('\\u2029', '\\n')\n",
    "\n",
    "    with open(file_output, 'w', encoding='utf-8', newline='') as outfile:\n",
    "        outfile.write(cleaned_content)"
   ]
  },
  {
   "cell_type": "code",
   "execution_count": 371,
   "metadata": {},
   "outputs": [],
   "source": [
    "# Hàm loại bỏ các dòng trùng lặp trong file CSV\n",
    "def remove_duplicates(df):  \n",
    "    # Đảm bảo rằng các giá trị trong 'Postdate' và 'Description' là chuỗi\n",
    "    df['Description'] = df['Description'].astype(str)\n",
    "    \n",
    "    # Bước 1: Loại bỏ các dòng trùng lặp mà tất cả các cột đều giống nhau\n",
    "    df = df.drop_duplicates()\n",
    "    \n",
    "    # Bước 2: Nhóm các dòng theo các cột 'Price', 'Area', 'Bedrooms', 'WCs', 'Address'\n",
    "    grouped = df.groupby(['Price', 'Area', 'Bedrooms', 'WCs', 'Address'])\n",
    "    \n",
    "    # Danh sách các chỉ số của các dòng cần giữ lại\n",
    "    indices_to_keep = set(df.index)\n",
    "\n",
    "    def similar(a, b):\n",
    "        return SequenceMatcher(None, a, b).ratio()\n",
    "    \n",
    "    # Lặp qua từng nhóm để kiểm tra sự tương đồng\n",
    "    for _, group in grouped:\n",
    "        group_indices = list(group.index)\n",
    "        for i in range(len(group_indices)):\n",
    "            for j in range(i + 1, len(group_indices)):\n",
    "                idx1, idx2 = group_indices[i], group_indices[j]\n",
    "                row1, row2 = df.loc[idx1], df.loc[idx2]\n",
    "                if row1['Postdate'] == row2['Postdate'] and similar(row1['Description'], row2['Description']) >= 0.8:\n",
    "                    indices_to_keep.discard(idx2)\n",
    "    \n",
    "    # Chuyển đổi tập hợp các chỉ số cần giữ lại thành danh sách\n",
    "    indices_to_keep = list(indices_to_keep)\n",
    "    \n",
    "    # Lọc lại DataFrame với các chỉ số cần giữ lại\n",
    "    df = df.loc[indices_to_keep].reset_index(drop=True)\n",
    "    \n",
    "    # Trả về DataFrame đã loại bỏ các dòng trùng lặp\n",
    "    return df"
   ]
  },
  {
   "cell_type": "code",
   "execution_count": 372,
   "metadata": {},
   "outputs": [],
   "source": [
    "# Áp dụng hàm remove_duplicates lên DataFrame đã được làm sạch\n",
    "df_cleaned = remove_duplicates(df)\n",
    "# Tạo lại cột No\n",
    "df_cleaned.insert(0, 'No', range(1, len(df_cleaned) + 1))\n",
    "\n",
    "# Lưu lại DataFrame đã làm sạch và loại bỏ trùng lặp vào file CSV\n",
    "df_cleaned.to_csv(file_output, index=False)"
   ]
  },
  {
   "cell_type": "code",
   "execution_count": 373,
   "metadata": {},
   "outputs": [],
   "source": [
    "# # Hàm tính tỷ lệ tương đồng giữa hai chuỗi\n",
    "# def similar(a, b):\n",
    "#     return SequenceMatcher(None, a, b).ratio()\n",
    "\n",
    "# # Hàm loại bỏ các dòng trùng lặp trong file CSV\n",
    "# def remove_duplicates(file_input):\n",
    "#     # Đọc dữ liệu từ file CSV\n",
    "#     df = pd.read_csv(file_input, on_bad_lines='skip', delimiter=',')\n",
    "    \n",
    "#     # Đảm bảo rằng các giá trị trong 'Postdate' và 'Description' là chuỗi\n",
    "#     #df['Postdate'] = df['Postdate'].astype(str)\n",
    "#     df['Description'] = df['Description'].astype(str)\n",
    "    \n",
    "#     # Bước 1: Loại bỏ các dòng trùng lặp mà tất cả các cột đều giống nhau\n",
    "#     df = df.drop_duplicates()\n",
    "    \n",
    "#     # Bước 2: Loại bỏ các dòng trùng lặp mà các cột cụ thể giống nhau và 'Postdate' và 'Description' giống nhau từ 80% trở lên\n",
    "#     def is_similar(row1, row2):\n",
    "#         return (\n",
    "#                 row1['Price'] == row2['Price'] \n",
    "#                 and row1['Area'] == row2['Area'] \n",
    "#                 and row1['Bedrooms'] == row2['Bedrooms'] \n",
    "#                 and row1['WCs'] == row2['WCs'] \n",
    "#                 and row1['Address'] == row2['Address'] \n",
    "#                 #and similar(row1['Postdate'], row2['Postdate']) >= 0.8 \n",
    "#                 and row1['Postdate'] == row2['Postdate']\n",
    "#                 and similar(row1['Description'], row2['Description']) >= 0.8\n",
    "#                 )\n",
    "    \n",
    "#     # Danh sách các chỉ số của các dòng cần loại bỏ\n",
    "#     indices_to_remove = []\n",
    "#     # Lặp qua từng cặp dòng trong DataFrame để kiểm tra sự tương đồng\n",
    "#     for i in range(len(df)):\n",
    "#         for j in range(i + 1, len(df)):\n",
    "#             if is_similar(df.iloc[i], df.iloc[j]):\n",
    "#                 indices_to_remove.append(j)\n",
    "    \n",
    "#     # Loại bỏ các dòng duplicate theo chỉ số đã xác định\n",
    "#     df = df.drop(indices_to_remove).reset_index(drop=True)\n",
    "    \n",
    "#     # Trả về DataFrame đã loại bỏ các dòng trùng lặp\n",
    "#     return df\n"
   ]
  }
 ],
 "metadata": {
  "kernelspec": {
   "display_name": "base",
   "language": "python",
   "name": "python3"
  },
  "language_info": {
   "codemirror_mode": {
    "name": "ipython",
    "version": 3
   },
   "file_extension": ".py",
   "mimetype": "text/x-python",
   "name": "python",
   "nbconvert_exporter": "python",
   "pygments_lexer": "ipython3",
   "version": "3.11.7"
  }
 },
 "nbformat": 4,
 "nbformat_minor": 2
}
