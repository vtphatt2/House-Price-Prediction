{
 "cells": [
  {
   "cell_type": "markdown",
   "metadata": {},
   "source": [
    "Problem 01:"
   ]
  },
  {
   "cell_type": "code",
   "execution_count": 177,
   "metadata": {},
   "outputs": [],
   "source": [
    "import pandas as pd\n",
    "import csv"
   ]
  },
  {
   "cell_type": "code",
   "execution_count": 178,
   "metadata": {},
   "outputs": [],
   "source": [
    "def fix_csv_quotes(file_path, output_path):\n",
    "    with open(file_path, 'r', encoding='utf-8') as infile, open(output_path, 'w', newline='', encoding='utf-8') as outfile:\n",
    "        reader = infile.readlines()\n",
    "        writer = csv.writer(outfile)\n",
    "\n",
    "        for line in reader:\n",
    "            # Check if the line has mismatched quotes and fix it\n",
    "            num_quotes = line.count('\"')\n",
    "            if num_quotes % 2 != 0:\n",
    "                # If odd number of quotes, add a quote at the end\n",
    "                line = line.strip() + '\"\\n'\n",
    "            writer.writerow(next(csv.reader([line])))"
   ]
  },
  {
   "cell_type": "code",
   "execution_count": 179,
   "metadata": {},
   "outputs": [],
   "source": [
    "# Define the input and output file paths\n",
    "input_file = '../Data/temp_data.csv'\n",
    "output_file = '../Data/clean_data.csv'\n",
    "\n",
    "# Call the function to fix the CSV quotes\n",
    "fix_csv_quotes(input_file, output_file)\n"
   ]
  },
  {
   "cell_type": "code",
   "execution_count": 180,
   "metadata": {},
   "outputs": [],
   "source": [
    "# # Read the fixed CSV file into a list of dictionaries\n",
    "# data = []\n",
    "# with open(output_file, 'r', encoding='utf-8') as csvfile:\n",
    "#     reader = csv.DictReader(csvfile)\n",
    "#     for row in reader:\n",
    "#         data.append(row)\n",
    "\n",
    "# # Create a DataFrame from the list of dictionaries\n",
    "# df = pd.DataFrame(data)\n",
    "\n",
    "# print(f\"Original number of rows: {len(df)}\")\n",
    "# print(df)"
   ]
  },
  {
   "cell_type": "code",
   "execution_count": 181,
   "metadata": {},
   "outputs": [],
   "source": [
    "# # Remove the row where the \"No\" column is 1479\n",
    "# df = df[df['No'] != '1479']  # Ensure 'No' is treated as string for comparison\n",
    "\n",
    "# # Reset the index and update the \"No\" column\n",
    "# df = df.reset_index(drop=True)\n",
    "# df['No'] = df.index + 1\n",
    "\n",
    "# # Print the number of rows after deletion for debugging\n",
    "# print(f\"Number of rows after deletion: {len(df)}\")\n",
    "\n",
    "# # Save the updated DataFrame back to CSV\n",
    "# df.to_csv(output_file, index=False)\n",
    "\n",
    "# df = df.drop(columns=[df.columns[-1]])\n",
    "\n",
    "# print(df) "
   ]
  },
  {
   "cell_type": "code",
   "execution_count": 185,
   "metadata": {},
   "outputs": [],
   "source": [
    "# Đọc lại file csv, xoá các dòng bị lỗi \n",
    "# (mình nhận thấy số lượng dòng bị lỗi không nhiều ~ 10 dòng nên mình sẽ skip luôn vì tụi mình có nhiều data mà =))))\n",
    "df = pd.read_csv('../Data/clean_data.csv', on_bad_lines = 'skip')\n",
    "\n",
    "# Loại bỏ cột No và cột Title không cần thiết \n",
    "df = df.drop(columns = df.columns[[0, 2]])\n",
    "\n",
    "# Load lại những thay đổi vào file clean_data.csv\n",
    "df.to_csv('../Data/clean_data.csv', index=False)"
   ]
  },
  {
   "cell_type": "code",
   "execution_count": null,
   "metadata": {},
   "outputs": [],
   "source": []
  }
 ],
 "metadata": {
  "kernelspec": {
   "display_name": "base",
   "language": "python",
   "name": "python3"
  },
  "language_info": {
   "codemirror_mode": {
    "name": "ipython",
    "version": 3
   },
   "file_extension": ".py",
   "mimetype": "text/x-python",
   "name": "python",
   "nbconvert_exporter": "python",
   "pygments_lexer": "ipython3",
   "version": "3.11.7"
  }
 },
 "nbformat": 4,
 "nbformat_minor": 2
}
