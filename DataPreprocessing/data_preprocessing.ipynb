{
 "cells": [
  {
   "cell_type": "markdown",
   "metadata": {},
   "source": [
    "Problem 01:"
   ]
  },
  {
   "cell_type": "code",
   "execution_count": 118,
   "metadata": {},
   "outputs": [],
   "source": [
    "import pandas as pd\n",
    "import csv"
   ]
  },
  {
   "cell_type": "code",
   "execution_count": 119,
   "metadata": {},
   "outputs": [],
   "source": [
    "def fix_csv_quotes(file_path, output_path):\n",
    "    with open(file_path, 'r', encoding='utf-8') as infile, open(output_path, 'w', newline='', encoding='utf-8') as outfile:\n",
    "        reader = infile.readlines()\n",
    "        writer = csv.writer(outfile)\n",
    "\n",
    "        for line in reader:\n",
    "            # Check if the line has mismatched quotes and fix it\n",
    "            num_quotes = line.count('\"')\n",
    "            if num_quotes % 2 != 0:\n",
    "                # If odd number of quotes, add a quote at the end\n",
    "                line = line.strip() + '\"\\n'\n",
    "            writer.writerow(next(csv.reader([line])))"
   ]
  },
  {
   "cell_type": "code",
   "execution_count": 120,
   "metadata": {},
   "outputs": [],
   "source": [
    "# Define the input and output file paths\n",
    "input_file = '../Data/temp_data.csv'\n",
    "output_file = '../Data/fix_quotes_data.csv'\n",
    "\n",
    "# Call the function to fix the CSV quotes\n",
    "fix_csv_quotes(input_file, output_file)\n"
   ]
  },
  {
   "cell_type": "code",
   "execution_count": 121,
   "metadata": {},
   "outputs": [
    {
     "name": "stdout",
     "output_type": "stream",
     "text": [
      "Original number of rows: 2000\n",
      "        No       Price                                              Title  \\\n",
      "0        1  3899000000  Chưa tới 30tr/m2 - Hàng ngộp bank BAO ĐẦU TƯ ...   \n",
      "1        2         5.5  Bán nhà HXH Âu Cơ Phường 9 Tân Bình, 51m2 3 Tầ...   \n",
      "2        3         4.6  SÁT MẶT TIỀN PHAN ĐĂNG LƯU, PHƯỜNG 7, PHÚ NHUẬ...   \n",
      "3        4        7.35  CHỦ GẤP BÁN TRƯỚC TẾT LÊ HỒNG PHONG QUẬN 5 RA ...   \n",
      "4        5          TT  LŨY BÁN BÍCH,TÂN PHÚ-DIỆN TÍCH KHỦNG 96M2 ( 4....   \n",
      "...    ...         ...                                                ...   \n",
      "1995  1996         7.5  Bán Nhà Mặt Đường Trực Cát, Lê Chân, Hải Phòng...   \n",
      "1996  1997         7.5  Bán Nhà Mặt Đường Trực Cát, Lê Chân, Hải Phòng...   \n",
      "1997  1998         4.9  Bán nhà mặt tiền Đường số 9 Phường 16 Gò Vấp, ...   \n",
      "1998  1999         4.2  Bán gấp Nhà 2 MT đường số Lê Văn Việt ,52 m2 ,...   \n",
      "1999  2000         9.5  Bán nhà mặt tiền đường Số 1 Phường 11 Gò Vấp, ...   \n",
      "\n",
      "     Area Bedrooms WCs                        Address             Postdate  \\\n",
      "0     150        2   1          Thành phố Hồ Chí Minh  2023-12-10 17:11:02   \n",
      "1      51                     ÂU CƠ PHƯỜNG 9 TÂN BÌNH  2023-12-10 18:40:26   \n",
      "2      45        2   2                                 2023-12-10 18:56:17   \n",
      "3      41               LÊ HỒNG PHONG PHƯỜNG 2 QUẬN 5  2023-12-10 20:49:28   \n",
      "4      96        2   1                                 2023-12-07 14:13:40   \n",
      "...   ...      ...  ..                            ...                  ...   \n",
      "1995   97        3   2   Trực Cát, Lê Chân, Hải Phòng  2023-10-20 17:31:59   \n",
      "1996   97        3   2   Trực Cát, Lê Chân, Hải Phòng  2023-10-20 17:31:59   \n",
      "1997   33                                  Đường Số 9  2023-10-20 20:05:20   \n",
      "1998   52        2   2   Lê Văn Việt, Tăng Nhơn Phú A  2023-10-20 21:48:33   \n",
      "1999   87        4                         Đường Số 1  2023-10-20 21:51:00   \n",
      "\n",
      "                                            Description None  \n",
      "0     + Thông số cực đẹp 5 x 30m (150m2) |+ Nhà c...  NaN  \n",
      "1     + DT 51m2 cực to cứng nhất khu |+ Kết cấu: 3 T...  NaN  \n",
      "2     - Đường đi sạch sẽ, an ninh, yên tĩnh. Khu vực...  NaN  \n",
      "3     - Diện tích công nhận 41m, thực tế 66m ngang 3...  NaN  \n",
      "4     - sổ vuông vức, thuận tiện xây mới, phù hợp xa...  NaN  \n",
      "...                                                 ...  ...  \n",
      "1995   Liên hệ: Sàn Bán Nhà Hải Phòng - 0796-336-866...  NaN  \n",
      "1996   Liên hệ: Sàn Bán Nhà Hải Phòng - 0796-336-866...  NaN  \n",
      "1997  • Vị trí: Nhà mặt tiền đang kinh doanh, gần tr...  NaN  \n",
      "1998  Thông ra Lê Văn Việt , chợ Tăng Nhơn Phú A, Lã...  NaN  \n",
      "1999  * Vị trí: nhà mặt tiền đường Số 1 phường 11 Gò...  NaN  \n",
      "\n",
      "[2000 rows x 10 columns]\n"
     ]
    }
   ],
   "source": [
    "# Read the fixed CSV file into a list of dictionaries\n",
    "data = []\n",
    "with open(output_file, 'r', encoding='utf-8') as csvfile:\n",
    "    reader = csv.DictReader(csvfile)\n",
    "    for row in reader:\n",
    "        data.append(row)\n",
    "\n",
    "# Create a DataFrame from the list of dictionaries\n",
    "df = pd.DataFrame(data)\n",
    "\n",
    "print(f\"Original number of rows: {len(df)}\")\n",
    "print(df)"
   ]
  },
  {
   "cell_type": "code",
   "execution_count": 122,
   "metadata": {},
   "outputs": [
    {
     "name": "stdout",
     "output_type": "stream",
     "text": [
      "Number of rows after deletion: 1999\n",
      "        No       Price                                              Title  \\\n",
      "0        1  3899000000  Chưa tới 30tr/m2 - Hàng ngộp bank BAO ĐẦU TƯ ...   \n",
      "1        2         5.5  Bán nhà HXH Âu Cơ Phường 9 Tân Bình, 51m2 3 Tầ...   \n",
      "2        3         4.6  SÁT MẶT TIỀN PHAN ĐĂNG LƯU, PHƯỜNG 7, PHÚ NHUẬ...   \n",
      "3        4        7.35  CHỦ GẤP BÁN TRƯỚC TẾT LÊ HỒNG PHONG QUẬN 5 RA ...   \n",
      "4        5          TT  LŨY BÁN BÍCH,TÂN PHÚ-DIỆN TÍCH KHỦNG 96M2 ( 4....   \n",
      "...    ...         ...                                                ...   \n",
      "1994  1995         7.5  Bán Nhà Mặt Đường Trực Cát, Lê Chân, Hải Phòng...   \n",
      "1995  1996         7.5  Bán Nhà Mặt Đường Trực Cát, Lê Chân, Hải Phòng...   \n",
      "1996  1997         4.9  Bán nhà mặt tiền Đường số 9 Phường 16 Gò Vấp, ...   \n",
      "1997  1998         4.2  Bán gấp Nhà 2 MT đường số Lê Văn Việt ,52 m2 ,...   \n",
      "1998  1999         9.5  Bán nhà mặt tiền đường Số 1 Phường 11 Gò Vấp, ...   \n",
      "\n",
      "     Area Bedrooms WCs                        Address             Postdate  \\\n",
      "0     150        2   1          Thành phố Hồ Chí Minh  2023-12-10 17:11:02   \n",
      "1      51                     ÂU CƠ PHƯỜNG 9 TÂN BÌNH  2023-12-10 18:40:26   \n",
      "2      45        2   2                                 2023-12-10 18:56:17   \n",
      "3      41               LÊ HỒNG PHONG PHƯỜNG 2 QUẬN 5  2023-12-10 20:49:28   \n",
      "4      96        2   1                                 2023-12-07 14:13:40   \n",
      "...   ...      ...  ..                            ...                  ...   \n",
      "1994   97        3   2   Trực Cát, Lê Chân, Hải Phòng  2023-10-20 17:31:59   \n",
      "1995   97        3   2   Trực Cát, Lê Chân, Hải Phòng  2023-10-20 17:31:59   \n",
      "1996   33                                  Đường Số 9  2023-10-20 20:05:20   \n",
      "1997   52        2   2   Lê Văn Việt, Tăng Nhơn Phú A  2023-10-20 21:48:33   \n",
      "1998   87        4                         Đường Số 1  2023-10-20 21:51:00   \n",
      "\n",
      "                                            Description  \n",
      "0     + Thông số cực đẹp 5 x 30m (150m2) |+ Nhà c...  \n",
      "1     + DT 51m2 cực to cứng nhất khu |+ Kết cấu: 3 T...  \n",
      "2     - Đường đi sạch sẽ, an ninh, yên tĩnh. Khu vực...  \n",
      "3     - Diện tích công nhận 41m, thực tế 66m ngang 3...  \n",
      "4     - sổ vuông vức, thuận tiện xây mới, phù hợp xa...  \n",
      "...                                                 ...  \n",
      "1994   Liên hệ: Sàn Bán Nhà Hải Phòng - 0796-336-866...  \n",
      "1995   Liên hệ: Sàn Bán Nhà Hải Phòng - 0796-336-866...  \n",
      "1996  • Vị trí: Nhà mặt tiền đang kinh doanh, gần tr...  \n",
      "1997  Thông ra Lê Văn Việt , chợ Tăng Nhơn Phú A, Lã...  \n",
      "1998  * Vị trí: nhà mặt tiền đường Số 1 phường 11 Gò...  \n",
      "\n",
      "[1999 rows x 9 columns]\n"
     ]
    }
   ],
   "source": [
    "# Remove the row where the \"No\" column is 1479\n",
    "df = df[df['No'] != '1479']  # Ensure 'No' is treated as string for comparison\n",
    "\n",
    "# Reset the index and update the \"No\" column\n",
    "df = df.reset_index(drop=True)\n",
    "df['No'] = df.index + 1\n",
    "\n",
    "# Print the number of rows after deletion for debugging\n",
    "print(f\"Number of rows after deletion: {len(df)}\")\n",
    "\n",
    "# Save the updated DataFrame back to CSV\n",
    "df.to_csv(output_file, index=False)\n",
    "df = df.drop(columns=[df.columns[-1]])\n",
    "\n",
    "print(df)"
   ]
  }
 ],
 "metadata": {
  "kernelspec": {
   "display_name": "base",
   "language": "python",
   "name": "python3"
  },
  "language_info": {
   "codemirror_mode": {
    "name": "ipython",
    "version": 3
   },
   "file_extension": ".py",
   "mimetype": "text/x-python",
   "name": "python",
   "nbconvert_exporter": "python",
   "pygments_lexer": "ipython3",
   "version": "3.11.7"
  }
 },
 "nbformat": 4,
 "nbformat_minor": 2
}
