{
 "cells": [
  {
   "cell_type": "markdown",
   "metadata": {},
   "source": [
    "### **Problem 01:**"
   ]
  },
  {
   "cell_type": "code",
   "execution_count": 39,
   "metadata": {},
   "outputs": [],
   "source": [
    "import pandas as pd\n",
    "import numpy as np \n",
    "import csv\n",
    "import re\n",
    "\n"
   ]
  },
  {
   "cell_type": "code",
   "execution_count": 40,
   "metadata": {},
   "outputs": [],
   "source": [
    "# Hàm fix lỗi dư hoặc thiếu dấu (\" \")\n",
    "def fix_csv_quotes(file_path, output_path):\n",
    "    with open(file_path, 'r', encoding='utf-8') as infile, open(output_path, 'w', newline='', encoding='utf-8') as outfile:\n",
    "        reader = infile.readlines()\n",
    "        writer = csv.writer(outfile)\n",
    "\n",
    "        for line in reader:\n",
    "            # Check if the line has mismatched quotes and fix it\n",
    "            num_quotes = line.count('\"')\n",
    "            if num_quotes % 2 != 0:\n",
    "                # If odd number of quotes, add a quote at the end\n",
    "                line = line.strip() + '\"\\n'\n",
    "            writer.writerow(next(csv.reader([line])))"
   ]
  },
  {
   "cell_type": "code",
   "execution_count": 41,
   "metadata": {},
   "outputs": [],
   "source": [
    "# Define the input and output file paths\n",
    "input_file = '../Data/temp_data.csv'\n",
    "output_file = '../Data/clean_data.csv'\n",
    "\n",
    "# Call the function to fix the CSV quotes\n",
    "fix_csv_quotes(input_file, output_file)\n"
   ]
  },
  {
   "cell_type": "markdown",
   "metadata": {},
   "source": [
    "### **Problem 02:**"
   ]
  },
  {
   "cell_type": "code",
   "execution_count": 42,
   "metadata": {},
   "outputs": [],
   "source": [
    "def clean_string(string):\n",
    "\n",
    "    \"\"\"\n",
    "    Hàm này sẽ làm sạch chuỗi bằng cách loại bỏ các biểu tượng và ký tự không cần thiết.\n",
    "    (nhưng giữ lại các kí tự chữ (hoa và thường), số, dấu chấm, dấu phẩy, dấu | )\n",
    "    \n",
    "    string: Chuỗi cần làm sạch.\n",
    "    cleanString: Chuỗi đã được làm sạch.\n",
    "\n",
    "    \"\"\"\n",
    "\n",
    "    # Hàm isinstance check xem data input của mình có phải là string không \n",
    "    if isinstance(string, str):\n",
    "        cleanString = re.sub(r'[^\\w\\s.,|]', '', string) # Xoá tất cả các kí tự ngoại trừ chữ (thường, hoa), số, dấu chấm, dấu phẩy, dấu |\n",
    "        return cleanString\n",
    "    else:\n",
    "        return string"
   ]
  },
  {
   "cell_type": "code",
   "execution_count": 43,
   "metadata": {},
   "outputs": [],
   "source": [
    "def clean_file_csv(input_csv, output_csv, column_index):\n",
    "\n",
    "    \"\"\"\n",
    "    Hàm này sẽ làm sạch một cột cụ thể trong file CSV, do có những cột khác (VD cột Postdate có dấu : ), \n",
    "    Vì vậy nếu apply full file csv nó sẽ fix hết cả những cột không cần thiết -> chỉ áp dụng chính xác cột cần xử lí thôi.\n",
    "\n",
    "    input_csv (str): Đường dẫn tới file CSV đầu vào (temp_data).\n",
    "    output_csv (str): Đường dẫn tới file CSV đầu ra (clean_data).\n",
    "    column_index (int): Chỉ số của cột cần làm sạch.\n",
    "    \"\"\"\n",
    "\n",
    "    # Đọc file CSV vào DataFrame\n",
    "    df = pd.read_csv(input_csv, on_bad_lines = 'skip')\n",
    "\n",
    "    # Kiểm tra xem chỉ số cột có hợp lệ không\n",
    "    if column_index < len(df.columns):\n",
    "        # Áp dụng hàm làm sạch cho cột cụ thể\n",
    "        col = df.columns[column_index]\n",
    "        df[col] = df[col].apply(clean_string)\n",
    "    else:\n",
    "        print(f\"Invalid column index !\")\n",
    "\n",
    "    # Lưu lại DataFrame đã được làm sạch thành file CSV mới\n",
    "    df.to_csv(output_csv, index = False)\n",
    "\n"
   ]
  },
  {
   "cell_type": "code",
   "execution_count": 44,
   "metadata": {},
   "outputs": [],
   "source": [
    "input_csv = '../Data/temp_data.csv'\n",
    "output_csv = '../Data/clean_data.csv'\n",
    "column_index = 8  # Chỉ số của cột cần làm sạch (bắt đầu từ 0), cột 8 là cột Description\n",
    "clean_file_csv(input_csv, output_csv, column_index)"
   ]
  },
  {
   "cell_type": "markdown",
   "metadata": {},
   "source": [
    "### **Problem 03:**"
   ]
  },
  {
   "cell_type": "code",
   "execution_count": 45,
   "metadata": {},
   "outputs": [],
   "source": [
    "# Đọc lại file csv, xoá các dòng bị lỗi \n",
    "# (mình nhận thấy số lượng dòng bị lỗi không nhiều ~ 10 dòng nên mình sẽ skip luôn vì tụi mình có nhiều data mà =))))\n",
    "df = pd.read_csv('../Data/clean_data.csv', on_bad_lines = 'skip')\n",
    "\n",
    "# Loại bỏ cột No và cột Title không cần thiết \n",
    "df = df.drop(columns = df.columns[[0, 2]])\n",
    "\n",
    "# Xoá các hàng bị duplicate\n",
    "df = df.drop_duplicates()\n",
    "\n",
    "# Thay thế \"Thoả thuận\" bằng NaN cho dễ xử lí về sau (tạm thời)\n",
    "df['Price'] = df['Price'].replace('TT', np.nan)\n",
    "\n",
    "# Tạo lại cột No\n",
    "df.insert(0, 'No', range(1, len(df) + 1))\n",
    "\n",
    "# Load lại những thay đổi vào file clean_data.csv\n",
    "df.to_csv('../Data/clean_data.csv', index=False)\n",
    "\n",
    "# Sau khi thực hiện clean bằng tất cả các bước trên thì từ 2000 rows data còn 1843 rows."
   ]
  }
 ],
 "metadata": {
  "kernelspec": {
   "display_name": "base",
   "language": "python",
   "name": "python3"
  },
  "language_info": {
   "codemirror_mode": {
    "name": "ipython",
    "version": 3
   },
   "file_extension": ".py",
   "mimetype": "text/x-python",
   "name": "python",
   "nbconvert_exporter": "python",
   "pygments_lexer": "ipython3",
   "version": "3.11.7"
  }
 },
 "nbformat": 4,
 "nbformat_minor": 2
}
