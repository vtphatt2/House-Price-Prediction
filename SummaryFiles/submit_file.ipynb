{
 "cells": [
  {
   "cell_type": "markdown",
   "metadata": {},
   "source": [
    "# **INTRODUCTION TO DATA SCIENCE**\n",
    "## Final Projects - House Price Prediction - 22KDL"
   ]
  },
  {
   "cell_type": "markdown",
   "metadata": {},
   "source": [
    "### **ABTRACT** \n",
    "This project aims to develop an accurate house price prediction model using data collected from the website https://batdongsan.vn/ban-nha/. By applying both learned and newly researched data analysis methods and techniques, we evaluated the effectiveness of various predictive models.\n",
    "\n",
    "### **INTRODUCTION** \n",
    "In the context of an increasingly volatile real estate market, accurate house price prediction is an urgent need. The goal of this project is to build a house price prediction model based on online data, providing users with clear insights and accurate forecasts about real estate values.\n",
    "\n",
    "### **LITERATURE REVIEW**\n",
    "Previous studies have employed various methods for house price prediction, ranging from simple regression models to complex machine learning techniques such as Random Forest and Gradient Boosting. This study builds upon and further develops these proven methods.\n",
    "\n",
    "\n"
   ]
  },
  {
   "cell_type": "markdown",
   "metadata": {},
   "source": [
    "## **DATA AND METHODS**"
   ]
  },
  {
   "cell_type": "markdown",
   "metadata": {},
   "source": [
    "### **Data Collecction**"
   ]
  },
  {
   "cell_type": "markdown",
   "metadata": {},
   "source": [
    "### **Data Preprocessing and Feature Engineering**"
   ]
  },
  {
   "cell_type": "markdown",
   "metadata": {},
   "source": [
    "### **Kernel Density estimation (KDE)**"
   ]
  },
  {
   "cell_type": "markdown",
   "metadata": {},
   "source": [
    "### **Methodology**"
   ]
  },
  {
   "cell_type": "markdown",
   "metadata": {},
   "source": [
    "### **Results**"
   ]
  },
  {
   "cell_type": "markdown",
   "metadata": {},
   "source": [
    "### **Discussion**"
   ]
  },
  {
   "cell_type": "markdown",
   "metadata": {},
   "source": [
    "### **Conclusion and Recommendations**"
   ]
  },
  {
   "cell_type": "markdown",
   "metadata": {},
   "source": [
    "### **References**"
   ]
  },
  {
   "cell_type": "markdown",
   "metadata": {},
   "source": [
    "1. https://www.zenrows.com/blog/web-crawler-python#initial-crawling-script\n",
    "2. https://viblo.asia/p/web-crawling-voi-thu-vien-beautifulsoup-1VgZvNGOZAw\n",
    "3. https://realpython.com/beautiful-soup-web-scraper-python/\n",
    "4. https://www.topcoder.com/thrive/articles/web-scraping-with-beautiful-soup\n",
    "5. https://www.w3schools.com/python/python_regex.asp\n",
    "6. https://docs.python.org/3/howto/regex.html\n",
    "7. https://peps.python.org/pep-0008/#function-and-variable-names\n",
    "8. https://cs230.stanford.edu/syllabus/\n",
    "9. https://www.geeksforgeeks.org/cross-validation-machine-learning/\n",
    "10. https://miai.vn/2021/01/18/k-fold-cross-validation-tuyet-chieu-train-khi-it-du-lieu/\n",
    "11. https://machinelearningcoban.com/tabml_book/ch_data_processing/eda.html#\n",
    "12. https://www.ibm.com/topics/exploratory-data-analysis\n",
    "13. https://scikit-learn.org/stable/modules/density.html\n",
    "14. https://viblo.asia/p/danh-gia-cac-mo-hinh-hoc-may-RnB5pp4D5PG\n",
    "15. https://www.geeksforgeeks.org/k-nearest-neighbours/"
   ]
  },
  {
   "cell_type": "markdown",
   "metadata": {},
   "source": [
    "### **About us**"
   ]
  },
  {
   "cell_type": "markdown",
   "metadata": {},
   "source": [
    "##### **Members**\n",
    "| **Name**| **Major**| **University**|\n",
    "|-|-|-|\n",
    "| Le Thanh Thuy | Data Science  | University of Science (VNUHCM) |\n",
    "| Nguyen Ngoc Thanh Thu | Data Science  | University of Science (VNUHCM) |\n",
    "| Phan Binh Phuong | Data Science  | University of Science (VNUHCM) |\n",
    "| Luong Thanh Nam| Data Science  | University of Science (VNUHCM) |\n"
   ]
  }
 ],
 "metadata": {
  "language_info": {
   "name": "python"
  }
 },
 "nbformat": 4,
 "nbformat_minor": 2
}
