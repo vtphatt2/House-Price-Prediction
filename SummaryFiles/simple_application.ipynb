{
 "cells": [
  {
   "cell_type": "code",
   "execution_count": 1,
   "metadata": {},
   "outputs": [],
   "source": [
    "import pandas as pd\n",
    "import numpy as np\n",
    "import tkinter as tk\n",
    "from tkinter import ttk\n",
    "from sklearn.preprocessing import StandardScaler\n",
    "from sklearn.model_selection import train_test_split\n",
    "from sklearn.ensemble import GradientBoostingRegressor\n",
    "from sklearn.model_selection import RandomizedSearchCV"
   ]
  },
  {
   "cell_type": "code",
   "execution_count": 2,
   "metadata": {},
   "outputs": [],
   "source": [
    "# Tải dữ liệu\n",
    "file_path = '../Data/clean_data.csv'\n",
    "data = pd.read_csv(file_path)"
   ]
  },
  {
   "cell_type": "code",
   "execution_count": 3,
   "metadata": {},
   "outputs": [],
   "source": [
    "# Chia dữ liệu thành các đặc trưng (X) và biến mục tiêu (Y)\n",
    "X = data.drop(columns=['No', 'Price'])  # Xóa các cột 'No' và 'Price' khỏi dữ liệu, giữ lại các đặc trưng\n",
    "Y = data['Price']  # Lấy cột 'Price' làm biến mục tiêu\n"
   ]
  },
  {
   "cell_type": "code",
   "execution_count": 4,
   "metadata": {},
   "outputs": [],
   "source": [
    "# Chuẩn hóa các biến số\n",
    "scaler = StandardScaler()  # Khởi tạo bộ chuẩn hóa StandardScaler\n",
    "X = scaler.fit_transform(X)  # Chuẩn hóa dữ liệu X"
   ]
  },
  {
   "cell_type": "code",
   "execution_count": 5,
   "metadata": {},
   "outputs": [],
   "source": [
    "# Chia dữ liệu thành tập huấn luyện và tập kiểm tra (80% cho huấn luyện, 20% cho kiểm tra)\n",
    "X_train, X_test, Y_train, Y_test = train_test_split(X, Y, test_size=0.2, random_state=42)"
   ]
  },
  {
   "cell_type": "code",
   "execution_count": 6,
   "metadata": {},
   "outputs": [
    {
     "name": "stdout",
     "output_type": "stream",
     "text": [
      "Fitting 5 folds for each of 100 candidates, totalling 500 fits\n"
     ]
    },
    {
     "data": {
      "text/html": [
       "<style>#sk-container-id-1 {color: black;background-color: white;}#sk-container-id-1 pre{padding: 0;}#sk-container-id-1 div.sk-toggleable {background-color: white;}#sk-container-id-1 label.sk-toggleable__label {cursor: pointer;display: block;width: 100%;margin-bottom: 0;padding: 0.3em;box-sizing: border-box;text-align: center;}#sk-container-id-1 label.sk-toggleable__label-arrow:before {content: \"▸\";float: left;margin-right: 0.25em;color: #696969;}#sk-container-id-1 label.sk-toggleable__label-arrow:hover:before {color: black;}#sk-container-id-1 div.sk-estimator:hover label.sk-toggleable__label-arrow:before {color: black;}#sk-container-id-1 div.sk-toggleable__content {max-height: 0;max-width: 0;overflow: hidden;text-align: left;background-color: #f0f8ff;}#sk-container-id-1 div.sk-toggleable__content pre {margin: 0.2em;color: black;border-radius: 0.25em;background-color: #f0f8ff;}#sk-container-id-1 input.sk-toggleable__control:checked~div.sk-toggleable__content {max-height: 200px;max-width: 100%;overflow: auto;}#sk-container-id-1 input.sk-toggleable__control:checked~label.sk-toggleable__label-arrow:before {content: \"▾\";}#sk-container-id-1 div.sk-estimator input.sk-toggleable__control:checked~label.sk-toggleable__label {background-color: #d4ebff;}#sk-container-id-1 div.sk-label input.sk-toggleable__control:checked~label.sk-toggleable__label {background-color: #d4ebff;}#sk-container-id-1 input.sk-hidden--visually {border: 0;clip: rect(1px 1px 1px 1px);clip: rect(1px, 1px, 1px, 1px);height: 1px;margin: -1px;overflow: hidden;padding: 0;position: absolute;width: 1px;}#sk-container-id-1 div.sk-estimator {font-family: monospace;background-color: #f0f8ff;border: 1px dotted black;border-radius: 0.25em;box-sizing: border-box;margin-bottom: 0.5em;}#sk-container-id-1 div.sk-estimator:hover {background-color: #d4ebff;}#sk-container-id-1 div.sk-parallel-item::after {content: \"\";width: 100%;border-bottom: 1px solid gray;flex-grow: 1;}#sk-container-id-1 div.sk-label:hover label.sk-toggleable__label {background-color: #d4ebff;}#sk-container-id-1 div.sk-serial::before {content: \"\";position: absolute;border-left: 1px solid gray;box-sizing: border-box;top: 0;bottom: 0;left: 50%;z-index: 0;}#sk-container-id-1 div.sk-serial {display: flex;flex-direction: column;align-items: center;background-color: white;padding-right: 0.2em;padding-left: 0.2em;position: relative;}#sk-container-id-1 div.sk-item {position: relative;z-index: 1;}#sk-container-id-1 div.sk-parallel {display: flex;align-items: stretch;justify-content: center;background-color: white;position: relative;}#sk-container-id-1 div.sk-item::before, #sk-container-id-1 div.sk-parallel-item::before {content: \"\";position: absolute;border-left: 1px solid gray;box-sizing: border-box;top: 0;bottom: 0;left: 50%;z-index: -1;}#sk-container-id-1 div.sk-parallel-item {display: flex;flex-direction: column;z-index: 1;position: relative;background-color: white;}#sk-container-id-1 div.sk-parallel-item:first-child::after {align-self: flex-end;width: 50%;}#sk-container-id-1 div.sk-parallel-item:last-child::after {align-self: flex-start;width: 50%;}#sk-container-id-1 div.sk-parallel-item:only-child::after {width: 0;}#sk-container-id-1 div.sk-dashed-wrapped {border: 1px dashed gray;margin: 0 0.4em 0.5em 0.4em;box-sizing: border-box;padding-bottom: 0.4em;background-color: white;}#sk-container-id-1 div.sk-label label {font-family: monospace;font-weight: bold;display: inline-block;line-height: 1.2em;}#sk-container-id-1 div.sk-label-container {text-align: center;}#sk-container-id-1 div.sk-container {/* jupyter's `normalize.less` sets `[hidden] { display: none; }` but bootstrap.min.css set `[hidden] { display: none !important; }` so we also need the `!important` here to be able to override the default hidden behavior on the sphinx rendered scikit-learn.org. See: https://github.com/scikit-learn/scikit-learn/issues/21755 */display: inline-block !important;position: relative;}#sk-container-id-1 div.sk-text-repr-fallback {display: none;}</style><div id=\"sk-container-id-1\" class=\"sk-top-container\"><div class=\"sk-text-repr-fallback\"><pre>RandomizedSearchCV(cv=5, estimator=GradientBoostingRegressor(random_state=42),\n",
       "                   n_iter=100, n_jobs=-1,\n",
       "                   param_distributions={&#x27;learning_rate&#x27;: [0.01, 0.05, 0.1, 0.2],\n",
       "                                        &#x27;max_depth&#x27;: [3, 4, 5, 6, 7],\n",
       "                                        &#x27;min_samples_leaf&#x27;: [1, 2, 3, 4, 5],\n",
       "                                        &#x27;min_samples_split&#x27;: [2, 5, 10, 15],\n",
       "                                        &#x27;n_estimators&#x27;: [100, 200, 300, 400,\n",
       "                                                         500],\n",
       "                                        &#x27;subsample&#x27;: [0.6, 0.7, 0.8, 0.9, 1.0]},\n",
       "                   random_state=42, scoring=&#x27;r2&#x27;, verbose=2)</pre><b>In a Jupyter environment, please rerun this cell to show the HTML representation or trust the notebook. <br />On GitHub, the HTML representation is unable to render, please try loading this page with nbviewer.org.</b></div><div class=\"sk-container\" hidden><div class=\"sk-item sk-dashed-wrapped\"><div class=\"sk-label-container\"><div class=\"sk-label sk-toggleable\"><input class=\"sk-toggleable__control sk-hidden--visually\" id=\"sk-estimator-id-1\" type=\"checkbox\" ><label for=\"sk-estimator-id-1\" class=\"sk-toggleable__label sk-toggleable__label-arrow\">RandomizedSearchCV</label><div class=\"sk-toggleable__content\"><pre>RandomizedSearchCV(cv=5, estimator=GradientBoostingRegressor(random_state=42),\n",
       "                   n_iter=100, n_jobs=-1,\n",
       "                   param_distributions={&#x27;learning_rate&#x27;: [0.01, 0.05, 0.1, 0.2],\n",
       "                                        &#x27;max_depth&#x27;: [3, 4, 5, 6, 7],\n",
       "                                        &#x27;min_samples_leaf&#x27;: [1, 2, 3, 4, 5],\n",
       "                                        &#x27;min_samples_split&#x27;: [2, 5, 10, 15],\n",
       "                                        &#x27;n_estimators&#x27;: [100, 200, 300, 400,\n",
       "                                                         500],\n",
       "                                        &#x27;subsample&#x27;: [0.6, 0.7, 0.8, 0.9, 1.0]},\n",
       "                   random_state=42, scoring=&#x27;r2&#x27;, verbose=2)</pre></div></div></div><div class=\"sk-parallel\"><div class=\"sk-parallel-item\"><div class=\"sk-item\"><div class=\"sk-label-container\"><div class=\"sk-label sk-toggleable\"><input class=\"sk-toggleable__control sk-hidden--visually\" id=\"sk-estimator-id-2\" type=\"checkbox\" ><label for=\"sk-estimator-id-2\" class=\"sk-toggleable__label sk-toggleable__label-arrow\">estimator: GradientBoostingRegressor</label><div class=\"sk-toggleable__content\"><pre>GradientBoostingRegressor(random_state=42)</pre></div></div></div><div class=\"sk-serial\"><div class=\"sk-item\"><div class=\"sk-estimator sk-toggleable\"><input class=\"sk-toggleable__control sk-hidden--visually\" id=\"sk-estimator-id-3\" type=\"checkbox\" ><label for=\"sk-estimator-id-3\" class=\"sk-toggleable__label sk-toggleable__label-arrow\">GradientBoostingRegressor</label><div class=\"sk-toggleable__content\"><pre>GradientBoostingRegressor(random_state=42)</pre></div></div></div></div></div></div></div></div></div></div>"
      ],
      "text/plain": [
       "RandomizedSearchCV(cv=5, estimator=GradientBoostingRegressor(random_state=42),\n",
       "                   n_iter=100, n_jobs=-1,\n",
       "                   param_distributions={'learning_rate': [0.01, 0.05, 0.1, 0.2],\n",
       "                                        'max_depth': [3, 4, 5, 6, 7],\n",
       "                                        'min_samples_leaf': [1, 2, 3, 4, 5],\n",
       "                                        'min_samples_split': [2, 5, 10, 15],\n",
       "                                        'n_estimators': [100, 200, 300, 400,\n",
       "                                                         500],\n",
       "                                        'subsample': [0.6, 0.7, 0.8, 0.9, 1.0]},\n",
       "                   random_state=42, scoring='r2', verbose=2)"
      ]
     },
     "execution_count": 6,
     "metadata": {},
     "output_type": "execute_result"
    }
   ],
   "source": [
    "# Tối ưu hóa tham số\n",
    "param_distributions = {\n",
    "    'n_estimators': [100, 200, 300, 400, 500],\n",
    "    'max_depth': [3, 4, 5, 6, 7],\n",
    "    'min_samples_split': [2, 5, 10, 15],\n",
    "    'min_samples_leaf': [1, 2, 3, 4, 5],\n",
    "    'subsample': [0.6, 0.7, 0.8, 0.9, 1.0],\n",
    "    'learning_rate': [0.01, 0.05, 0.1, 0.2]\n",
    "}\n",
    "\n",
    "# Khởi tạo mô hình GradientBoostingRegressor\n",
    "model = GradientBoostingRegressor(random_state=42)\n",
    "\n",
    "# Khởi tạo RandomizedSearchCV để tìm kiếm tham số tốt nhất\n",
    "random_search = RandomizedSearchCV(estimator=model, param_distributions=param_distributions,\n",
    "                                   n_iter=100, cv=5, n_jobs=-1, scoring='r2', verbose=2, random_state=42)\n",
    "random_search.fit(X_train, Y_train)  # Huấn luyện RandomizedSearchCV"
   ]
  },
  {
   "cell_type": "code",
   "execution_count": 7,
   "metadata": {},
   "outputs": [],
   "source": [
    "# Sử dụng mô hình với tham số tốt nhất\n",
    "best_model = random_search.best_estimator_"
   ]
  },
  {
   "cell_type": "code",
   "execution_count": 8,
   "metadata": {},
   "outputs": [],
   "source": [
    "# Hàm dự đoán giá nhà dựa trên đầu vào của người dùng\n",
    "def predict_house_price(area, bedrooms, wcs, floors, legal_status, price_per_sqm, district_encoded, month, frontage_1, frontage_0, frontage_missing):\n",
    "    # Tạo DataFrame từ các tham số đầu vào\n",
    "    input_data = pd.DataFrame({\n",
    "        'Area': [area],\n",
    "        'Bedrooms': [bedrooms],\n",
    "        'WCs': [wcs],\n",
    "        'Floors': [floors],\n",
    "        'Legal_status': [legal_status],\n",
    "        'Price_per_sqm': [price_per_sqm],\n",
    "        'District_encoded': [district_encoded],\n",
    "        'Month': [month],\n",
    "        'Frontage_1': [frontage_1],\n",
    "        'Frontage_0': [frontage_0],\n",
    "        'Frontage_missing': [frontage_missing]\n",
    "    })\n",
    "    # Chuẩn hóa dữ liệu đầu vào\n",
    "    input_data_scaled = scaler.transform(input_data)\n",
    "    # Dự đoán giá nhà\n",
    "    prediction = best_model.predict(input_data_scaled)\n",
    "    return prediction[0]"
   ]
  },
  {
   "cell_type": "code",
   "execution_count": 9,
   "metadata": {},
   "outputs": [],
   "source": [
    "# Ứng dụng GUI\n",
    "class HousePriceApp:\n",
    "    def __init__(self, root):\n",
    "        self.root = root\n",
    "        self.root.title(\"House Price Prediction\")  # Đặt tiêu đề cho cửa sổ\n",
    "        self.root.protocol(\"WM_DELETE_WINDOW\", self.on_closing)  # Gọi hàm on_closing khi cửa sổ bị đóng\n",
    "\n",
    "        # Tạo các trường nhập liệu\n",
    "        self.area_label = ttk.Label(root, text=\"Area\")\n",
    "        self.area_label.grid(row=0, column=0, padx=10, pady=10)\n",
    "        self.area_entry = ttk.Entry(root)\n",
    "        self.area_entry.grid(row=0, column=1, padx=10, pady=10)\n",
    "\n",
    "        self.bedrooms_label = ttk.Label(root, text=\"Bedrooms\")\n",
    "        self.bedrooms_label.grid(row=1, column=0, padx=10, pady=10)\n",
    "        self.bedrooms_entry = ttk.Entry(root)\n",
    "        self.bedrooms_entry.grid(row=1, column=1, padx=10, pady=10)\n",
    "\n",
    "        self.wcs_label = ttk.Label(root, text=\"WCs\")\n",
    "        self.wcs_label.grid(row=2, column=0, padx=10, pady=10)\n",
    "        self.wcs_entry = ttk.Entry(root)\n",
    "        self.wcs_entry.grid(row=2, column=1, padx=10, pady=10)\n",
    "\n",
    "        self.floors_label = ttk.Label(root, text=\"Floors\")\n",
    "        self.floors_label.grid(row=3, column=0, padx=10, pady=10)\n",
    "        self.floors_entry = ttk.Entry(root)\n",
    "        self.floors_entry.grid(row=3, column=1, padx=10, pady=10)\n",
    "\n",
    "        self.legal_status_label = ttk.Label(root, text=\"Legal Status\")\n",
    "        self.legal_status_label.grid(row=4, column=0, padx=10, pady=10)\n",
    "        self.legal_status_entry = ttk.Entry(root)\n",
    "        self.legal_status_entry.grid(row=4, column=1, padx=10, pady=10)\n",
    "\n",
    "        self.price_per_sqm_label = ttk.Label(root, text=\"Price per Sqm\")\n",
    "        self.price_per_sqm_label.grid(row=5, column=0, padx=10, pady=10)\n",
    "        self.price_per_sqm_entry = ttk.Entry(root)\n",
    "        self.price_per_sqm_entry.grid(row=5, column=1, padx=10, pady=10)\n",
    "\n",
    "        self.district_encoded_label = ttk.Label(root, text=\"District Encoded\")\n",
    "        self.district_encoded_label.grid(row=6, column=0, padx=10, pady=10)\n",
    "        self.district_encoded_entry = ttk.Entry(root)\n",
    "        self.district_encoded_entry.grid(row=6, column=1, padx=10, pady=10)\n",
    "\n",
    "        self.month_label = ttk.Label(root, text=\"Month\")\n",
    "        self.month_label.grid(row=7, column=0, padx=10, pady=10)\n",
    "        self.month_entry = ttk.Entry(root)\n",
    "        self.month_entry.grid(row=7, column=1, padx=10, pady=10)\n",
    "\n",
    "        self.frontage_1_label = ttk.Label(root, text=\"Frontage 1\")\n",
    "        self.frontage_1_label.grid(row=8, column=0, padx=10, pady=10)\n",
    "        self.frontage_1_entry = ttk.Entry(root)\n",
    "        self.frontage_1_entry.grid(row=8, column=1, padx=10, pady=10)\n",
    "\n",
    "        self.frontage_0_label = ttk.Label(root, text=\"Frontage 0\")\n",
    "        self.frontage_0_label.grid(row=9, column=0, padx=10, pady=10)\n",
    "        self.frontage_0_entry = ttk.Entry(root)\n",
    "        self.frontage_0_entry.grid(row=9, column=1, padx=10, pady=10)\n",
    "\n",
    "        self.frontage_missing_label = ttk.Label(root, text=\"Frontage Missing\")\n",
    "        self.frontage_missing_label.grid(row=10, column=0, padx=10, pady=10)\n",
    "        self.frontage_missing_entry = ttk.Entry(root)\n",
    "        self.frontage_missing_entry.grid(row=10, column=1, padx=10, pady=10)\n",
    "\n",
    "        # Tạo nút dự đoán\n",
    "        self.predict_button = ttk.Button(root, text=\"Predict Price\", command=self.predict_price)\n",
    "        self.predict_button.grid(row=11, column=0, columnspan=2, padx=10, pady=10)\n",
    "\n",
    "        # Tạo nhãn để hiển thị kết quả\n",
    "        self.result_label = ttk.Label(root, text=\"Predicted Price: \")\n",
    "        self.result_label.grid(row=12, column=0, columnspan=2, padx=10, pady=10)\n",
    "\n",
    "    def predict_price(self):\n",
    "        try:\n",
    "            # Lấy đầu vào từ người dùng\n",
    "            area = float(self.area_entry.get())\n",
    "            bedrooms = int(self.bedrooms_entry.get())\n",
    "            wcs = int(self.wcs_entry.get())\n",
    "            floors = int(self.floors_entry.get())\n",
    "            legal_status = int(self.legal_status_entry.get())\n",
    "            price_per_sqm = float(self.price_per_sqm_entry.get())\n",
    "            district_encoded = int(self.district_encoded_entry.get())\n",
    "            month = int(self.month_entry.get())\n",
    "            frontage_1 = int(self.frontage_1_entry.get())\n",
    "            frontage_0 = int(self.frontage_0_entry.get())\n",
    "            frontage_missing = int(self.frontage_missing_entry.get())\n",
    "\n",
    "            # Dự đoán giá\n",
    "            predicted_price = predict_house_price(area, bedrooms, wcs, floors, legal_status, price_per_sqm, district_encoded, month, frontage_1, frontage_0, frontage_missing)\n",
    "            self.result_label.config(text=f\"Predicted Price: {predicted_price}\")\n",
    "        except ValueError:\n",
    "            self.result_label.config(text=\"Please enter valid values.\")  # Hiển thị thông báo lỗi nếu có lỗi\n",
    "\n",
    "    def on_closing(self):\n",
    "        self.root.destroy()  # Đóng cửa sổ\n",
    "        self.root.quit()  # Thoát ứng dụng\n"
   ]
  },
  {
   "cell_type": "code",
   "execution_count": 10,
   "metadata": {},
   "outputs": [],
   "source": [
    "# Hàm chính để chạy ứng dụng\n",
    "if __name__ == \"__main__\":\n",
    "    root = tk.Tk()\n",
    "    app = HousePriceApp(root)\n",
    "    root.mainloop()"
   ]
  }
 ],
 "metadata": {
  "kernelspec": {
   "display_name": "base",
   "language": "python",
   "name": "python3"
  },
  "language_info": {
   "codemirror_mode": {
    "name": "ipython",
    "version": 3
   },
   "file_extension": ".py",
   "mimetype": "text/x-python",
   "name": "python",
   "nbconvert_exporter": "python",
   "pygments_lexer": "ipython3",
   "version": "3.11.7"
  }
 },
 "nbformat": 4,
 "nbformat_minor": 2
}
